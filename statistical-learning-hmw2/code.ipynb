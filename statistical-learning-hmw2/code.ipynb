{
 "cells": [
  {
   "cell_type": "markdown",
   "id": "f135e237",
   "metadata": {
    "id": "f135e237"
   },
   "source": [
    "# Part A"
   ]
  },
  {
   "cell_type": "markdown",
   "id": "27649fb8",
   "metadata": {
    "id": "27649fb8"
   },
   "source": [
    "## Importing all the libraries needed"
   ]
  },
  {
   "cell_type": "code",
   "execution_count": 1,
   "id": "3d7706d9",
   "metadata": {
    "id": "3d7706d9",
    "scrolled": true
   },
   "outputs": [],
   "source": [
    "import pandas as pd\n",
    "import numpy as np\n",
    "\n",
    "from sklearn.preprocessing import StandardScaler\n",
    "from sklearn.decomposition import PCA\n",
    "from sklearn.model_selection import train_test_split\n",
    "from sklearn.svm import SVR\n",
    "from sklearn.model_selection import GridSearchCV\n",
    "from sklearn.metrics import make_scorer"
   ]
  },
  {
   "cell_type": "markdown",
   "id": "e6910262",
   "metadata": {
    "id": "e6910262"
   },
   "source": [
    "## Defining accuracy1 and accuracy2"
   ]
  },
  {
   "cell_type": "code",
   "execution_count": 2,
   "id": "b248a81b",
   "metadata": {
    "id": "b248a81b"
   },
   "outputs": [],
   "source": [
    "def accuracy1(y_true, y_pred):\n",
    "    \n",
    "    if len(y_pred)!=len(y_true):\n",
    "        raise Exception(\"The two array must be of the same dimentions!\")\n",
    "    \n",
    "    count = 0\n",
    "    for i in range(len(y_pred)):\n",
    "        if y_pred[i] <= y_true[i]*1.04 and y_pred[i] >= y_true[i]*0.96:\n",
    "            count += 1\n",
    "    \n",
    "    return count/len(y_pred)\n",
    "            \n",
    "    \n",
    "def accuracy2(y_true, y_pred):\n",
    "    \n",
    "    if len(y_pred)!=len(y_true):\n",
    "        raise Exception(\"The two array must be of the same dimentions!\")\n",
    "    \n",
    "    count = 0\n",
    "    for i in range(len(y_pred)):\n",
    "        if (y_pred[i] <= y_true[i]*1.04 and y_pred[i] >= y_true[i]*0.96) or y_true[i]%y_pred[i]== 0 or y_pred[i]%y_true[i]== 0:\n",
    "            count += 1\n",
    "    \n",
    "    return count/len(y_pred)"
   ]
  },
  {
   "cell_type": "markdown",
   "id": "03d002f3",
   "metadata": {
    "id": "03d002f3"
   },
   "source": [
    "## Loading all the train data"
   ]
  },
  {
   "cell_type": "code",
   "execution_count": 3,
   "id": "b4de9180",
   "metadata": {
    "id": "b4de9180"
   },
   "outputs": [],
   "source": [
    "train_df = pd.read_csv(\"train4final_hw.csv\")"
   ]
  },
  {
   "cell_type": "markdown",
   "id": "fe9a85ad",
   "metadata": {
    "id": "fe9a85ad"
   },
   "source": [
    "## Selecting at random $m = 10$ observations from the **training set** for Part B."
   ]
  },
  {
   "cell_type": "code",
   "execution_count": 4,
   "id": "0a7f53fa",
   "metadata": {
    "colab": {
     "base_uri": "https://localhost:8080/",
     "height": 456
    },
    "id": "0a7f53fa",
    "outputId": "4191bdf5-16a3-426f-96dd-a005609b7882"
   },
   "outputs": [
    {
     "data": {
      "text/html": [
       "<div>\n",
       "<style scoped>\n",
       "    .dataframe tbody tr th:only-of-type {\n",
       "        vertical-align: middle;\n",
       "    }\n",
       "\n",
       "    .dataframe tbody tr th {\n",
       "        vertical-align: top;\n",
       "    }\n",
       "\n",
       "    .dataframe thead th {\n",
       "        text-align: right;\n",
       "    }\n",
       "</style>\n",
       "<table border=\"1\" class=\"dataframe\">\n",
       "  <thead>\n",
       "    <tr style=\"text-align: right;\">\n",
       "      <th></th>\n",
       "      <th>mel1_t1</th>\n",
       "      <th>mel1_t2</th>\n",
       "      <th>mel1_t3</th>\n",
       "      <th>mel1_t4</th>\n",
       "      <th>mel1_t5</th>\n",
       "      <th>mel1_t6</th>\n",
       "      <th>mel1_t7</th>\n",
       "      <th>mel1_t8</th>\n",
       "      <th>mel1_t9</th>\n",
       "      <th>mel1_t10</th>\n",
       "      <th>...</th>\n",
       "      <th>prec.x</th>\n",
       "      <th>roughness</th>\n",
       "      <th>rugo</th>\n",
       "      <th>sfm.1</th>\n",
       "      <th>shannon</th>\n",
       "      <th>simpson</th>\n",
       "      <th>renyi</th>\n",
       "      <th>id</th>\n",
       "      <th>genre</th>\n",
       "      <th>tempo</th>\n",
       "    </tr>\n",
       "  </thead>\n",
       "  <tbody>\n",
       "    <tr>\n",
       "      <th>815</th>\n",
       "      <td>275.050734</td>\n",
       "      <td>272.834307</td>\n",
       "      <td>270.534823</td>\n",
       "      <td>271.321844</td>\n",
       "      <td>265.721748</td>\n",
       "      <td>295.053231</td>\n",
       "      <td>287.132779</td>\n",
       "      <td>278.012982</td>\n",
       "      <td>289.525987</td>\n",
       "      <td>289.342372</td>\n",
       "      <td>...</td>\n",
       "      <td>0.125</td>\n",
       "      <td>3.230718</td>\n",
       "      <td>0.175416</td>\n",
       "      <td>0.162642</td>\n",
       "      <td>0.807020</td>\n",
       "      <td>0.985819</td>\n",
       "      <td>0.682208</td>\n",
       "      <td>1159</td>\n",
       "      <td>19</td>\n",
       "      <td>128.0</td>\n",
       "    </tr>\n",
       "    <tr>\n",
       "      <th>723</th>\n",
       "      <td>282.874249</td>\n",
       "      <td>290.765179</td>\n",
       "      <td>300.027555</td>\n",
       "      <td>314.282681</td>\n",
       "      <td>311.497477</td>\n",
       "      <td>301.027809</td>\n",
       "      <td>303.469009</td>\n",
       "      <td>310.704548</td>\n",
       "      <td>302.823372</td>\n",
       "      <td>309.866566</td>\n",
       "      <td>...</td>\n",
       "      <td>0.125</td>\n",
       "      <td>2.082593</td>\n",
       "      <td>0.174907</td>\n",
       "      <td>0.451157</td>\n",
       "      <td>0.810744</td>\n",
       "      <td>0.972550</td>\n",
       "      <td>0.576342</td>\n",
       "      <td>861</td>\n",
       "      <td>5</td>\n",
       "      <td>175.0</td>\n",
       "    </tr>\n",
       "    <tr>\n",
       "      <th>1318</th>\n",
       "      <td>295.866554</td>\n",
       "      <td>309.168998</td>\n",
       "      <td>291.108803</td>\n",
       "      <td>272.658062</td>\n",
       "      <td>286.092493</td>\n",
       "      <td>269.386483</td>\n",
       "      <td>259.063367</td>\n",
       "      <td>282.176303</td>\n",
       "      <td>262.418541</td>\n",
       "      <td>284.015301</td>\n",
       "      <td>...</td>\n",
       "      <td>0.125</td>\n",
       "      <td>1.799326</td>\n",
       "      <td>0.175178</td>\n",
       "      <td>0.661843</td>\n",
       "      <td>0.919176</td>\n",
       "      <td>0.993205</td>\n",
       "      <td>0.800147</td>\n",
       "      <td>934</td>\n",
       "      <td>13</td>\n",
       "      <td>113.0</td>\n",
       "    </tr>\n",
       "    <tr>\n",
       "      <th>1077</th>\n",
       "      <td>268.325600</td>\n",
       "      <td>267.555656</td>\n",
       "      <td>267.905503</td>\n",
       "      <td>266.911166</td>\n",
       "      <td>265.841159</td>\n",
       "      <td>265.818617</td>\n",
       "      <td>266.741212</td>\n",
       "      <td>264.630055</td>\n",
       "      <td>262.436045</td>\n",
       "      <td>264.904423</td>\n",
       "      <td>...</td>\n",
       "      <td>0.125</td>\n",
       "      <td>4.807463</td>\n",
       "      <td>0.179146</td>\n",
       "      <td>0.636884</td>\n",
       "      <td>0.929261</td>\n",
       "      <td>0.995097</td>\n",
       "      <td>0.852449</td>\n",
       "      <td>295</td>\n",
       "      <td>20</td>\n",
       "      <td>137.6</td>\n",
       "    </tr>\n",
       "    <tr>\n",
       "      <th>1228</th>\n",
       "      <td>288.692233</td>\n",
       "      <td>286.210030</td>\n",
       "      <td>297.394528</td>\n",
       "      <td>297.734714</td>\n",
       "      <td>288.769802</td>\n",
       "      <td>290.543197</td>\n",
       "      <td>285.969640</td>\n",
       "      <td>275.519207</td>\n",
       "      <td>296.404847</td>\n",
       "      <td>284.672493</td>\n",
       "      <td>...</td>\n",
       "      <td>0.125</td>\n",
       "      <td>1.675343</td>\n",
       "      <td>0.171151</td>\n",
       "      <td>0.415936</td>\n",
       "      <td>0.856522</td>\n",
       "      <td>0.990450</td>\n",
       "      <td>0.745589</td>\n",
       "      <td>370</td>\n",
       "      <td>4</td>\n",
       "      <td>110.0</td>\n",
       "    </tr>\n",
       "    <tr>\n",
       "      <th>1396</th>\n",
       "      <td>273.194057</td>\n",
       "      <td>275.139660</td>\n",
       "      <td>275.090196</td>\n",
       "      <td>300.450399</td>\n",
       "      <td>290.305453</td>\n",
       "      <td>292.333299</td>\n",
       "      <td>285.147244</td>\n",
       "      <td>270.590157</td>\n",
       "      <td>276.359994</td>\n",
       "      <td>269.850574</td>\n",
       "      <td>...</td>\n",
       "      <td>0.125</td>\n",
       "      <td>0.727507</td>\n",
       "      <td>0.173976</td>\n",
       "      <td>0.308931</td>\n",
       "      <td>0.697922</td>\n",
       "      <td>0.950689</td>\n",
       "      <td>0.482439</td>\n",
       "      <td>1697</td>\n",
       "      <td>19</td>\n",
       "      <td>134.0</td>\n",
       "    </tr>\n",
       "    <tr>\n",
       "      <th>664</th>\n",
       "      <td>208.904452</td>\n",
       "      <td>216.345940</td>\n",
       "      <td>232.873659</td>\n",
       "      <td>272.492843</td>\n",
       "      <td>295.597689</td>\n",
       "      <td>272.689490</td>\n",
       "      <td>250.193753</td>\n",
       "      <td>245.604549</td>\n",
       "      <td>239.719910</td>\n",
       "      <td>237.740564</td>\n",
       "      <td>...</td>\n",
       "      <td>0.125</td>\n",
       "      <td>1.422723</td>\n",
       "      <td>0.175173</td>\n",
       "      <td>0.042738</td>\n",
       "      <td>0.445245</td>\n",
       "      <td>0.883417</td>\n",
       "      <td>0.344508</td>\n",
       "      <td>1312</td>\n",
       "      <td>6</td>\n",
       "      <td>180.0</td>\n",
       "    </tr>\n",
       "    <tr>\n",
       "      <th>689</th>\n",
       "      <td>297.403723</td>\n",
       "      <td>305.525745</td>\n",
       "      <td>310.613782</td>\n",
       "      <td>296.089683</td>\n",
       "      <td>295.830901</td>\n",
       "      <td>307.153993</td>\n",
       "      <td>306.130742</td>\n",
       "      <td>304.652032</td>\n",
       "      <td>304.721619</td>\n",
       "      <td>317.116978</td>\n",
       "      <td>...</td>\n",
       "      <td>0.125</td>\n",
       "      <td>2.629111</td>\n",
       "      <td>0.176166</td>\n",
       "      <td>0.684984</td>\n",
       "      <td>0.927216</td>\n",
       "      <td>0.994066</td>\n",
       "      <td>0.821863</td>\n",
       "      <td>911</td>\n",
       "      <td>5</td>\n",
       "      <td>174.0</td>\n",
       "    </tr>\n",
       "    <tr>\n",
       "      <th>279</th>\n",
       "      <td>281.004180</td>\n",
       "      <td>280.108439</td>\n",
       "      <td>280.115544</td>\n",
       "      <td>283.198226</td>\n",
       "      <td>274.012355</td>\n",
       "      <td>292.646752</td>\n",
       "      <td>284.181033</td>\n",
       "      <td>275.181385</td>\n",
       "      <td>274.776309</td>\n",
       "      <td>268.744237</td>\n",
       "      <td>...</td>\n",
       "      <td>0.125</td>\n",
       "      <td>1.593020</td>\n",
       "      <td>0.174331</td>\n",
       "      <td>0.414467</td>\n",
       "      <td>0.764095</td>\n",
       "      <td>0.965578</td>\n",
       "      <td>0.540060</td>\n",
       "      <td>108</td>\n",
       "      <td>19</td>\n",
       "      <td>134.0</td>\n",
       "    </tr>\n",
       "    <tr>\n",
       "      <th>1257</th>\n",
       "      <td>240.190807</td>\n",
       "      <td>253.744007</td>\n",
       "      <td>280.017902</td>\n",
       "      <td>267.405297</td>\n",
       "      <td>298.956521</td>\n",
       "      <td>270.333096</td>\n",
       "      <td>255.017715</td>\n",
       "      <td>277.225146</td>\n",
       "      <td>257.026261</td>\n",
       "      <td>293.010801</td>\n",
       "      <td>...</td>\n",
       "      <td>0.125</td>\n",
       "      <td>1.382261</td>\n",
       "      <td>0.174572</td>\n",
       "      <td>0.471098</td>\n",
       "      <td>0.747266</td>\n",
       "      <td>0.940076</td>\n",
       "      <td>0.451193</td>\n",
       "      <td>181</td>\n",
       "      <td>19</td>\n",
       "      <td>126.0</td>\n",
       "    </tr>\n",
       "  </tbody>\n",
       "</table>\n",
       "<p>10 rows × 7042 columns</p>\n",
       "</div>"
      ],
      "text/plain": [
       "         mel1_t1     mel1_t2     mel1_t3     mel1_t4     mel1_t5     mel1_t6  \\\n",
       "815   275.050734  272.834307  270.534823  271.321844  265.721748  295.053231   \n",
       "723   282.874249  290.765179  300.027555  314.282681  311.497477  301.027809   \n",
       "1318  295.866554  309.168998  291.108803  272.658062  286.092493  269.386483   \n",
       "1077  268.325600  267.555656  267.905503  266.911166  265.841159  265.818617   \n",
       "1228  288.692233  286.210030  297.394528  297.734714  288.769802  290.543197   \n",
       "1396  273.194057  275.139660  275.090196  300.450399  290.305453  292.333299   \n",
       "664   208.904452  216.345940  232.873659  272.492843  295.597689  272.689490   \n",
       "689   297.403723  305.525745  310.613782  296.089683  295.830901  307.153993   \n",
       "279   281.004180  280.108439  280.115544  283.198226  274.012355  292.646752   \n",
       "1257  240.190807  253.744007  280.017902  267.405297  298.956521  270.333096   \n",
       "\n",
       "         mel1_t7     mel1_t8     mel1_t9    mel1_t10  ...  prec.x  roughness  \\\n",
       "815   287.132779  278.012982  289.525987  289.342372  ...   0.125   3.230718   \n",
       "723   303.469009  310.704548  302.823372  309.866566  ...   0.125   2.082593   \n",
       "1318  259.063367  282.176303  262.418541  284.015301  ...   0.125   1.799326   \n",
       "1077  266.741212  264.630055  262.436045  264.904423  ...   0.125   4.807463   \n",
       "1228  285.969640  275.519207  296.404847  284.672493  ...   0.125   1.675343   \n",
       "1396  285.147244  270.590157  276.359994  269.850574  ...   0.125   0.727507   \n",
       "664   250.193753  245.604549  239.719910  237.740564  ...   0.125   1.422723   \n",
       "689   306.130742  304.652032  304.721619  317.116978  ...   0.125   2.629111   \n",
       "279   284.181033  275.181385  274.776309  268.744237  ...   0.125   1.593020   \n",
       "1257  255.017715  277.225146  257.026261  293.010801  ...   0.125   1.382261   \n",
       "\n",
       "          rugo     sfm.1   shannon   simpson     renyi    id  genre  tempo  \n",
       "815   0.175416  0.162642  0.807020  0.985819  0.682208  1159     19  128.0  \n",
       "723   0.174907  0.451157  0.810744  0.972550  0.576342   861      5  175.0  \n",
       "1318  0.175178  0.661843  0.919176  0.993205  0.800147   934     13  113.0  \n",
       "1077  0.179146  0.636884  0.929261  0.995097  0.852449   295     20  137.6  \n",
       "1228  0.171151  0.415936  0.856522  0.990450  0.745589   370      4  110.0  \n",
       "1396  0.173976  0.308931  0.697922  0.950689  0.482439  1697     19  134.0  \n",
       "664   0.175173  0.042738  0.445245  0.883417  0.344508  1312      6  180.0  \n",
       "689   0.176166  0.684984  0.927216  0.994066  0.821863   911      5  174.0  \n",
       "279   0.174331  0.414467  0.764095  0.965578  0.540060   108     19  134.0  \n",
       "1257  0.174572  0.471098  0.747266  0.940076  0.451193   181     19  126.0  \n",
       "\n",
       "[10 rows x 7042 columns]"
      ]
     },
     "execution_count": 4,
     "metadata": {},
     "output_type": "execute_result"
    }
   ],
   "source": [
    "np.random.seed(1234)\n",
    "\n",
    "chosen_idx = np.random.choice(len(train_df), size = 10)\n",
    "\n",
    "partB_df = train_df.iloc[chosen_idx]\n",
    "\n",
    "partB_df"
   ]
  },
  {
   "cell_type": "markdown",
   "id": "8e9e7472",
   "metadata": {
    "id": "8e9e7472"
   },
   "source": [
    "## We drop the $m$ choosen rows in the **training set**."
   ]
  },
  {
   "cell_type": "code",
   "execution_count": 5,
   "id": "5c47d22a",
   "metadata": {
    "id": "5c47d22a",
    "scrolled": true
   },
   "outputs": [],
   "source": [
    "train_df = train_df.drop(chosen_idx)"
   ]
  },
  {
   "cell_type": "markdown",
   "id": "9c5f5c82",
   "metadata": {
    "id": "9c5f5c82"
   },
   "source": [
    "## Defining the features and the target data"
   ]
  },
  {
   "cell_type": "markdown",
   "id": "1ec24ca9",
   "metadata": {
    "id": "1ec24ca9"
   },
   "source": [
    "We have dropped the Mel-frequency cepstrall coefficients and dominant frequency to work only with the statistics."
   ]
  },
  {
   "cell_type": "code",
   "execution_count": 6,
   "id": "8179ba2e",
   "metadata": {
    "id": "8179ba2e"
   },
   "outputs": [],
   "source": [
    "x = train_df.iloc[:, 7011:7041].values\n",
    "\n",
    "y = train_df.loc[:, ['tempo']].values"
   ]
  },
  {
   "cell_type": "markdown",
   "id": "76fee9ae",
   "metadata": {
    "id": "76fee9ae"
   },
   "source": [
    "## Scaling the data"
   ]
  },
  {
   "cell_type": "code",
   "execution_count": 7,
   "id": "f3c60be6",
   "metadata": {
    "id": "f3c60be6"
   },
   "outputs": [],
   "source": [
    "scaler = StandardScaler().fit(x)\n",
    "\n",
    "x = scaler.transform(x)"
   ]
  },
  {
   "cell_type": "markdown",
   "id": "43b6d657",
   "metadata": {
    "id": "43b6d657"
   },
   "source": [
    "## Doing dimentionality reduction using PCA"
   ]
  },
  {
   "cell_type": "code",
   "execution_count": 8,
   "id": "eeffe384",
   "metadata": {
    "id": "eeffe384"
   },
   "outputs": [],
   "source": [
    "pca = PCA(.95)\n",
    "pca.fit(x)\n",
    "x = pca.transform(x)"
   ]
  },
  {
   "cell_type": "code",
   "execution_count": 9,
   "id": "f82d8a32",
   "metadata": {
    "colab": {
     "base_uri": "https://localhost:8080/"
    },
    "id": "f82d8a32",
    "outputId": "b592f769-9493-4253-d26a-ce47222bdd8a"
   },
   "outputs": [
    {
     "name": "stdout",
     "output_type": "stream",
     "text": [
      "Number of principal components used for .95 variance: 14\n"
     ]
    }
   ],
   "source": [
    "print(\"Number of principal components used for .95 variance:\", pca.n_components_)"
   ]
  },
  {
   "cell_type": "markdown",
   "id": "f08b577d",
   "metadata": {
    "id": "f08b577d"
   },
   "source": [
    "# Performing SVM Regression with GridSearchCV"
   ]
  },
  {
   "cell_type": "code",
   "execution_count": 10,
   "id": "71682fa5",
   "metadata": {
    "colab": {
     "base_uri": "https://localhost:8080/"
    },
    "id": "71682fa5",
    "outputId": "3acee34a-8758-4f99-9b09-9f8395882389",
    "scrolled": false
   },
   "outputs": [
    {
     "name": "stdout",
     "output_type": "stream",
     "text": [
      "Fitting 5 folds for each of 12 candidates, totalling 60 fits\n",
      "[CV 1/5] END epsilon=0.1, gamma=scale, kernel=poly;, score=0.309 total time=   0.6s\n",
      "[CV 2/5] END epsilon=0.1, gamma=scale, kernel=poly;, score=0.287 total time=   0.6s\n",
      "[CV 3/5] END epsilon=0.1, gamma=scale, kernel=poly;, score=0.316 total time=   0.6s\n",
      "[CV 4/5] END epsilon=0.1, gamma=scale, kernel=poly;, score=0.319 total time=   0.4s\n",
      "[CV 5/5] END epsilon=0.1, gamma=scale, kernel=poly;, score=0.316 total time=   0.3s\n",
      "[CV 1/5] END epsilon=0.1, gamma=scale, kernel=rbf;, score=0.299 total time=   0.4s\n",
      "[CV 2/5] END epsilon=0.1, gamma=scale, kernel=rbf;, score=0.252 total time=   0.4s\n",
      "[CV 3/5] END epsilon=0.1, gamma=scale, kernel=rbf;, score=0.310 total time=   0.3s\n",
      "[CV 4/5] END epsilon=0.1, gamma=scale, kernel=rbf;, score=0.300 total time=   0.5s\n",
      "[CV 5/5] END epsilon=0.1, gamma=scale, kernel=rbf;, score=0.300 total time=   0.5s\n",
      "[CV 1/5] END epsilon=0.1, gamma=scale, kernel=sigmoid;, score=0.260 total time=   0.4s\n",
      "[CV 2/5] END epsilon=0.1, gamma=scale, kernel=sigmoid;, score=0.187 total time=   0.4s\n",
      "[CV 3/5] END epsilon=0.1, gamma=scale, kernel=sigmoid;, score=0.265 total time=   0.4s\n",
      "[CV 4/5] END epsilon=0.1, gamma=scale, kernel=sigmoid;, score=0.255 total time=   0.4s\n",
      "[CV 5/5] END epsilon=0.1, gamma=scale, kernel=sigmoid;, score=0.284 total time=   0.4s\n",
      "[CV 1/5] END epsilon=0.1, gamma=auto, kernel=poly;, score=0.299 total time=   0.3s\n",
      "[CV 2/5] END epsilon=0.1, gamma=auto, kernel=poly;, score=0.255 total time=   0.4s\n",
      "[CV 3/5] END epsilon=0.1, gamma=auto, kernel=poly;, score=0.306 total time=   0.5s\n",
      "[CV 4/5] END epsilon=0.1, gamma=auto, kernel=poly;, score=0.294 total time=   0.3s\n",
      "[CV 5/5] END epsilon=0.1, gamma=auto, kernel=poly;, score=0.303 total time=   0.4s\n",
      "[CV 1/5] END epsilon=0.1, gamma=auto, kernel=rbf;, score=0.302 total time=   0.2s\n",
      "[CV 2/5] END epsilon=0.1, gamma=auto, kernel=rbf;, score=0.242 total time=   0.3s\n",
      "[CV 3/5] END epsilon=0.1, gamma=auto, kernel=rbf;, score=0.300 total time=   0.3s\n",
      "[CV 4/5] END epsilon=0.1, gamma=auto, kernel=rbf;, score=0.294 total time=   0.3s\n",
      "[CV 5/5] END epsilon=0.1, gamma=auto, kernel=rbf;, score=0.287 total time=   0.3s\n",
      "[CV 1/5] END epsilon=0.1, gamma=auto, kernel=sigmoid;, score=0.113 total time=   0.4s\n",
      "[CV 2/5] END epsilon=0.1, gamma=auto, kernel=sigmoid;, score=0.077 total time=   0.4s\n",
      "[CV 3/5] END epsilon=0.1, gamma=auto, kernel=sigmoid;, score=0.116 total time=   0.4s\n",
      "[CV 4/5] END epsilon=0.1, gamma=auto, kernel=sigmoid;, score=0.100 total time=   0.4s\n",
      "[CV 5/5] END epsilon=0.1, gamma=auto, kernel=sigmoid;, score=0.084 total time=   0.4s\n",
      "[CV 1/5] END epsilon=0.2, gamma=scale, kernel=poly;, score=0.309 total time=   0.2s\n",
      "[CV 2/5] END epsilon=0.2, gamma=scale, kernel=poly;, score=0.287 total time=   0.2s\n",
      "[CV 3/5] END epsilon=0.2, gamma=scale, kernel=poly;, score=0.316 total time=   0.2s\n",
      "[CV 4/5] END epsilon=0.2, gamma=scale, kernel=poly;, score=0.319 total time=   0.2s\n",
      "[CV 5/5] END epsilon=0.2, gamma=scale, kernel=poly;, score=0.316 total time=   0.2s\n",
      "[CV 1/5] END epsilon=0.2, gamma=scale, kernel=rbf;, score=0.299 total time=   0.3s\n",
      "[CV 2/5] END epsilon=0.2, gamma=scale, kernel=rbf;, score=0.252 total time=   0.2s\n",
      "[CV 3/5] END epsilon=0.2, gamma=scale, kernel=rbf;, score=0.303 total time=   0.3s\n",
      "[CV 4/5] END epsilon=0.2, gamma=scale, kernel=rbf;, score=0.300 total time=   0.3s\n",
      "[CV 5/5] END epsilon=0.2, gamma=scale, kernel=rbf;, score=0.297 total time=   0.3s\n",
      "[CV 1/5] END epsilon=0.2, gamma=scale, kernel=sigmoid;, score=0.260 total time=   0.4s\n",
      "[CV 2/5] END epsilon=0.2, gamma=scale, kernel=sigmoid;, score=0.190 total time=   0.4s\n",
      "[CV 3/5] END epsilon=0.2, gamma=scale, kernel=sigmoid;, score=0.265 total time=   0.4s\n",
      "[CV 4/5] END epsilon=0.2, gamma=scale, kernel=sigmoid;, score=0.261 total time=   0.4s\n",
      "[CV 5/5] END epsilon=0.2, gamma=scale, kernel=sigmoid;, score=0.284 total time=   0.4s\n",
      "[CV 1/5] END epsilon=0.2, gamma=auto, kernel=poly;, score=0.305 total time=   0.3s\n",
      "[CV 2/5] END epsilon=0.2, gamma=auto, kernel=poly;, score=0.255 total time=   0.3s\n",
      "[CV 3/5] END epsilon=0.2, gamma=auto, kernel=poly;, score=0.306 total time=   0.4s\n",
      "[CV 4/5] END epsilon=0.2, gamma=auto, kernel=poly;, score=0.300 total time=   0.4s\n",
      "[CV 5/5] END epsilon=0.2, gamma=auto, kernel=poly;, score=0.303 total time=   0.3s\n",
      "[CV 1/5] END epsilon=0.2, gamma=auto, kernel=rbf;, score=0.302 total time=   0.3s\n",
      "[CV 2/5] END epsilon=0.2, gamma=auto, kernel=rbf;, score=0.242 total time=   0.3s\n",
      "[CV 3/5] END epsilon=0.2, gamma=auto, kernel=rbf;, score=0.297 total time=   0.3s\n",
      "[CV 4/5] END epsilon=0.2, gamma=auto, kernel=rbf;, score=0.297 total time=   0.3s\n",
      "[CV 5/5] END epsilon=0.2, gamma=auto, kernel=rbf;, score=0.287 total time=   0.3s\n",
      "[CV 1/5] END epsilon=0.2, gamma=auto, kernel=sigmoid;, score=0.109 total time=   0.5s\n",
      "[CV 2/5] END epsilon=0.2, gamma=auto, kernel=sigmoid;, score=0.077 total time=   0.4s\n",
      "[CV 3/5] END epsilon=0.2, gamma=auto, kernel=sigmoid;, score=0.113 total time=   0.4s\n",
      "[CV 4/5] END epsilon=0.2, gamma=auto, kernel=sigmoid;, score=0.110 total time=   0.4s\n",
      "[CV 5/5] END epsilon=0.2, gamma=auto, kernel=sigmoid;, score=0.084 total time=   0.4s\n",
      "{'epsilon': 0.1, 'gamma': 'scale', 'kernel': 'poly'}\n"
     ]
    }
   ],
   "source": [
    "parameters = {'kernel':('poly', 'rbf', 'sigmoid'),\n",
    "              'gamma':('scale', 'auto'), 'epsilon':[0.1, 0.2]}\n",
    "\n",
    "gs = GridSearchCV(estimator = SVR(),\n",
    "                  param_grid = parameters,\n",
    "                  scoring = make_scorer(accuracy2),\n",
    "                  verbose = 3)\n",
    "\n",
    "gs.fit(x, y.ravel())\n",
    "print(gs.best_params_)"
   ]
  },
  {
   "cell_type": "markdown",
   "id": "b5afdca9",
   "metadata": {
    "id": "b5afdca9"
   },
   "source": [
    "## Predicting on the **test set**"
   ]
  },
  {
   "cell_type": "code",
   "execution_count": 11,
   "id": "702a49c4",
   "metadata": {
    "id": "702a49c4",
    "scrolled": true
   },
   "outputs": [],
   "source": [
    "test_df = pd.read_csv(\"test4final_hw.csv\")\n",
    "\n",
    "results = test_df.loc[:, ['id']]\n",
    "\n",
    "x_test = test_df.iloc[:, 7011:7041].values\n",
    "x_test = scaler.transform(x_test)\n",
    "x_test = pca.transform(x_test)\n",
    "\n",
    "results = results.assign(target = gs.best_estimator_.predict(x_test).reshape(-1,1).ravel())"
   ]
  },
  {
   "cell_type": "markdown",
   "id": "68294c5f",
   "metadata": {
    "id": "68294c5f"
   },
   "source": [
    "## Saving the results as a .csv file"
   ]
  },
  {
   "cell_type": "code",
   "execution_count": 12,
   "id": "3dbc3b77",
   "metadata": {
    "id": "3dbc3b77",
    "scrolled": true
   },
   "outputs": [],
   "source": [
    "results.to_csv('results.csv', index = False)"
   ]
  },
  {
   "cell_type": "markdown",
   "id": "3cc47b7b",
   "metadata": {
    "id": "3cc47b7b"
   },
   "source": [
    "## Bonus section"
   ]
  },
  {
   "cell_type": "markdown",
   "id": "30858287",
   "metadata": {
    "id": "30858287"
   },
   "source": [
    "### Importing needed libraries"
   ]
  },
  {
   "cell_type": "code",
   "execution_count": 13,
   "id": "916ff7e0",
   "metadata": {
    "id": "916ff7e0"
   },
   "outputs": [
    {
     "name": "stderr",
     "output_type": "stream",
     "text": [
      "2022-06-04 18:06:12.048028: W tensorflow/stream_executor/platform/default/dso_loader.cc:64] Could not load dynamic library 'libcudart.so.11.0'; dlerror: libcudart.so.11.0: cannot open shared object file: No such file or directory\n",
      "2022-06-04 18:06:12.048078: I tensorflow/stream_executor/cuda/cudart_stub.cc:29] Ignore above cudart dlerror if you do not have a GPU set up on your machine.\n"
     ]
    }
   ],
   "source": [
    "import matplotlib.pyplot as plt\n",
    "import tensorflow as tf\n",
    "from tensorflow.keras import Model\n",
    "from tensorflow.keras import Sequential\n",
    "from tensorflow.keras.optimizers import Adam\n",
    "from tensorflow.keras.layers import Dense, Dropout\n",
    "from tensorflow.keras.losses import MeanSquaredLogarithmicError"
   ]
  },
  {
   "cell_type": "markdown",
   "id": "de071dc7",
   "metadata": {
    "id": "de071dc7"
   },
   "source": [
    "### Defining the model"
   ]
  },
  {
   "cell_type": "code",
   "execution_count": 14,
   "id": "37b199e9",
   "metadata": {
    "id": "37b199e9",
    "scrolled": true
   },
   "outputs": [
    {
     "name": "stderr",
     "output_type": "stream",
     "text": [
      "2022-06-04 18:06:15.488379: W tensorflow/stream_executor/platform/default/dso_loader.cc:64] Could not load dynamic library 'libcuda.so.1'; dlerror: libcuda.so.1: cannot open shared object file: No such file or directory\n",
      "2022-06-04 18:06:15.488461: W tensorflow/stream_executor/cuda/cuda_driver.cc:269] failed call to cuInit: UNKNOWN ERROR (303)\n",
      "2022-06-04 18:06:15.488512: I tensorflow/stream_executor/cuda/cuda_diagnostics.cc:156] kernel driver does not appear to be running on this host (arch-pc): /proc/driver/nvidia/version does not exist\n",
      "2022-06-04 18:06:15.489075: I tensorflow/core/platform/cpu_feature_guard.cc:193] This TensorFlow binary is optimized with oneAPI Deep Neural Network Library (oneDNN) to use the following CPU instructions in performance-critical operations:  AVX2 FMA\n",
      "To enable them in other operations, rebuild TensorFlow with the appropriate compiler flags.\n"
     ]
    }
   ],
   "source": [
    "model = Sequential([\n",
    "    Dense(pca.n_components_, kernel_initializer = 'normal', activation = 'relu'),\n",
    "    Dropout(0.2),\n",
    "    Dense(100, kernel_initializer = 'normal', activation = 'relu'),\n",
    "    Dense(1, kernel_initializer='normal', activation='linear')\n",
    "])"
   ]
  },
  {
   "cell_type": "markdown",
   "id": "9cfd3758",
   "metadata": {
    "id": "9cfd3758"
   },
   "source": [
    "### Training the model"
   ]
  },
  {
   "cell_type": "code",
   "execution_count": 15,
   "id": "a71109a9",
   "metadata": {
    "colab": {
     "base_uri": "https://localhost:8080/"
    },
    "id": "a71109a9",
    "outputId": "4aa785f9-0fa4-415a-c7e3-25689c6042cc",
    "scrolled": true
   },
   "outputs": [
    {
     "name": "stdout",
     "output_type": "stream",
     "text": [
      "Epoch 1/100\n",
      "17/17 [==============================] - 2s 53ms/step - loss: 15.3774 - mean_squared_logarithmic_error: 14.9745 - val_loss: 5.7099 - val_mean_squared_logarithmic_error: 5.7099\n",
      "Epoch 2/100\n",
      "17/17 [==============================] - 0s 16ms/step - loss: 2.7129 - mean_squared_logarithmic_error: 2.6198 - val_loss: 0.9795 - val_mean_squared_logarithmic_error: 0.9795\n",
      "Epoch 3/100\n",
      "17/17 [==============================] - 0s 17ms/step - loss: 0.5546 - mean_squared_logarithmic_error: 0.5433 - val_loss: 0.2693 - val_mean_squared_logarithmic_error: 0.2693\n",
      "Epoch 4/100\n",
      "17/17 [==============================] - 0s 15ms/step - loss: 0.2129 - mean_squared_logarithmic_error: 0.2105 - val_loss: 0.1434 - val_mean_squared_logarithmic_error: 0.1434\n",
      "Epoch 5/100\n",
      "17/17 [==============================] - 0s 17ms/step - loss: 0.1590 - mean_squared_logarithmic_error: 0.1554 - val_loss: 0.1173 - val_mean_squared_logarithmic_error: 0.1173\n",
      "Epoch 6/100\n",
      "17/17 [==============================] - 0s 15ms/step - loss: 0.1663 - mean_squared_logarithmic_error: 0.1651 - val_loss: 0.1093 - val_mean_squared_logarithmic_error: 0.1093\n",
      "Epoch 7/100\n",
      "17/17 [==============================] - 0s 15ms/step - loss: 0.1480 - mean_squared_logarithmic_error: 0.1485 - val_loss: 0.1047 - val_mean_squared_logarithmic_error: 0.1047\n",
      "Epoch 8/100\n",
      "17/17 [==============================] - 0s 17ms/step - loss: 0.1404 - mean_squared_logarithmic_error: 0.1394 - val_loss: 0.1010 - val_mean_squared_logarithmic_error: 0.1010\n",
      "Epoch 9/100\n",
      "17/17 [==============================] - 0s 17ms/step - loss: 0.1469 - mean_squared_logarithmic_error: 0.1457 - val_loss: 0.0987 - val_mean_squared_logarithmic_error: 0.0987\n",
      "Epoch 10/100\n",
      "17/17 [==============================] - 0s 19ms/step - loss: 0.1292 - mean_squared_logarithmic_error: 0.1271 - val_loss: 0.0966 - val_mean_squared_logarithmic_error: 0.0966\n",
      "Epoch 11/100\n",
      "17/17 [==============================] - 0s 28ms/step - loss: 0.1291 - mean_squared_logarithmic_error: 0.1291 - val_loss: 0.0944 - val_mean_squared_logarithmic_error: 0.0944\n",
      "Epoch 12/100\n",
      "17/17 [==============================] - 0s 19ms/step - loss: 0.1231 - mean_squared_logarithmic_error: 0.1245 - val_loss: 0.0921 - val_mean_squared_logarithmic_error: 0.0921\n",
      "Epoch 13/100\n",
      "17/17 [==============================] - 0s 16ms/step - loss: 0.1231 - mean_squared_logarithmic_error: 0.1238 - val_loss: 0.0909 - val_mean_squared_logarithmic_error: 0.0909\n",
      "Epoch 14/100\n",
      "17/17 [==============================] - 0s 16ms/step - loss: 0.1230 - mean_squared_logarithmic_error: 0.1211 - val_loss: 0.0895 - val_mean_squared_logarithmic_error: 0.0895\n",
      "Epoch 15/100\n",
      "17/17 [==============================] - 0s 16ms/step - loss: 0.1207 - mean_squared_logarithmic_error: 0.1204 - val_loss: 0.0873 - val_mean_squared_logarithmic_error: 0.0873\n",
      "Epoch 16/100\n",
      "17/17 [==============================] - 0s 18ms/step - loss: 0.1123 - mean_squared_logarithmic_error: 0.1105 - val_loss: 0.0858 - val_mean_squared_logarithmic_error: 0.0858\n",
      "Epoch 17/100\n",
      "17/17 [==============================] - 0s 18ms/step - loss: 0.1120 - mean_squared_logarithmic_error: 0.1113 - val_loss: 0.0846 - val_mean_squared_logarithmic_error: 0.0846\n",
      "Epoch 18/100\n",
      "17/17 [==============================] - 0s 18ms/step - loss: 0.1142 - mean_squared_logarithmic_error: 0.1131 - val_loss: 0.0832 - val_mean_squared_logarithmic_error: 0.0832\n",
      "Epoch 19/100\n",
      "17/17 [==============================] - 0s 18ms/step - loss: 0.1078 - mean_squared_logarithmic_error: 0.1049 - val_loss: 0.0822 - val_mean_squared_logarithmic_error: 0.0822\n",
      "Epoch 20/100\n",
      "17/17 [==============================] - 0s 18ms/step - loss: 0.1105 - mean_squared_logarithmic_error: 0.1079 - val_loss: 0.0807 - val_mean_squared_logarithmic_error: 0.0807\n",
      "Epoch 21/100\n",
      "17/17 [==============================] - 0s 17ms/step - loss: 0.1200 - mean_squared_logarithmic_error: 0.1196 - val_loss: 0.0794 - val_mean_squared_logarithmic_error: 0.0794\n",
      "Epoch 22/100\n",
      "17/17 [==============================] - 0s 18ms/step - loss: 0.1163 - mean_squared_logarithmic_error: 0.1182 - val_loss: 0.0779 - val_mean_squared_logarithmic_error: 0.0779\n",
      "Epoch 23/100\n",
      "17/17 [==============================] - 0s 17ms/step - loss: 0.1087 - mean_squared_logarithmic_error: 0.1078 - val_loss: 0.0778 - val_mean_squared_logarithmic_error: 0.0778\n",
      "Epoch 24/100\n",
      "17/17 [==============================] - 0s 18ms/step - loss: 0.0967 - mean_squared_logarithmic_error: 0.0949 - val_loss: 0.0769 - val_mean_squared_logarithmic_error: 0.0769\n",
      "Epoch 25/100\n",
      "17/17 [==============================] - 0s 16ms/step - loss: 0.1004 - mean_squared_logarithmic_error: 0.1005 - val_loss: 0.0742 - val_mean_squared_logarithmic_error: 0.0742\n",
      "Epoch 26/100\n",
      "17/17 [==============================] - 0s 20ms/step - loss: 0.1003 - mean_squared_logarithmic_error: 0.1004 - val_loss: 0.0735 - val_mean_squared_logarithmic_error: 0.0735\n",
      "Epoch 27/100\n",
      "17/17 [==============================] - 0s 18ms/step - loss: 0.0960 - mean_squared_logarithmic_error: 0.0940 - val_loss: 0.0726 - val_mean_squared_logarithmic_error: 0.0726\n",
      "Epoch 28/100\n",
      "17/17 [==============================] - 0s 18ms/step - loss: 0.0982 - mean_squared_logarithmic_error: 0.1000 - val_loss: 0.0721 - val_mean_squared_logarithmic_error: 0.0721\n",
      "Epoch 29/100\n",
      "17/17 [==============================] - 0s 18ms/step - loss: 0.1018 - mean_squared_logarithmic_error: 0.1020 - val_loss: 0.0722 - val_mean_squared_logarithmic_error: 0.0722\n",
      "Epoch 30/100\n",
      "17/17 [==============================] - 0s 19ms/step - loss: 0.0921 - mean_squared_logarithmic_error: 0.0914 - val_loss: 0.0708 - val_mean_squared_logarithmic_error: 0.0708\n",
      "Epoch 31/100\n",
      "17/17 [==============================] - 0s 16ms/step - loss: 0.0889 - mean_squared_logarithmic_error: 0.0875 - val_loss: 0.0703 - val_mean_squared_logarithmic_error: 0.0703\n",
      "Epoch 32/100\n",
      "17/17 [==============================] - 0s 18ms/step - loss: 0.0859 - mean_squared_logarithmic_error: 0.0864 - val_loss: 0.0697 - val_mean_squared_logarithmic_error: 0.0697\n",
      "Epoch 33/100\n",
      "17/17 [==============================] - 0s 17ms/step - loss: 0.0924 - mean_squared_logarithmic_error: 0.0918 - val_loss: 0.0695 - val_mean_squared_logarithmic_error: 0.0695\n",
      "Epoch 34/100\n",
      "17/17 [==============================] - 0s 19ms/step - loss: 0.0913 - mean_squared_logarithmic_error: 0.0909 - val_loss: 0.0683 - val_mean_squared_logarithmic_error: 0.0683\n",
      "Epoch 35/100\n",
      "17/17 [==============================] - 0s 18ms/step - loss: 0.0889 - mean_squared_logarithmic_error: 0.0884 - val_loss: 0.0679 - val_mean_squared_logarithmic_error: 0.0679\n",
      "Epoch 36/100\n",
      "17/17 [==============================] - 0s 18ms/step - loss: 0.0848 - mean_squared_logarithmic_error: 0.0867 - val_loss: 0.0671 - val_mean_squared_logarithmic_error: 0.0671\n",
      "Epoch 37/100\n",
      "17/17 [==============================] - 0s 19ms/step - loss: 0.0880 - mean_squared_logarithmic_error: 0.0863 - val_loss: 0.0669 - val_mean_squared_logarithmic_error: 0.0669\n",
      "Epoch 38/100\n",
      "17/17 [==============================] - 0s 18ms/step - loss: 0.0857 - mean_squared_logarithmic_error: 0.0865 - val_loss: 0.0657 - val_mean_squared_logarithmic_error: 0.0657\n",
      "Epoch 39/100\n",
      "17/17 [==============================] - 0s 20ms/step - loss: 0.0833 - mean_squared_logarithmic_error: 0.0876 - val_loss: 0.0654 - val_mean_squared_logarithmic_error: 0.0654\n",
      "Epoch 40/100\n",
      "17/17 [==============================] - 0s 21ms/step - loss: 0.0841 - mean_squared_logarithmic_error: 0.0847 - val_loss: 0.0655 - val_mean_squared_logarithmic_error: 0.0655\n",
      "Epoch 41/100\n",
      "17/17 [==============================] - 0s 18ms/step - loss: 0.0826 - mean_squared_logarithmic_error: 0.0809 - val_loss: 0.0658 - val_mean_squared_logarithmic_error: 0.0658\n",
      "Epoch 42/100\n",
      "17/17 [==============================] - 0s 19ms/step - loss: 0.0844 - mean_squared_logarithmic_error: 0.0826 - val_loss: 0.0643 - val_mean_squared_logarithmic_error: 0.0643\n",
      "Epoch 43/100\n",
      "17/17 [==============================] - 0s 19ms/step - loss: 0.0798 - mean_squared_logarithmic_error: 0.0791 - val_loss: 0.0634 - val_mean_squared_logarithmic_error: 0.0634\n",
      "Epoch 44/100\n",
      "17/17 [==============================] - 0s 23ms/step - loss: 0.0816 - mean_squared_logarithmic_error: 0.0793 - val_loss: 0.0624 - val_mean_squared_logarithmic_error: 0.0624\n"
     ]
    },
    {
     "name": "stdout",
     "output_type": "stream",
     "text": [
      "Epoch 45/100\n",
      "17/17 [==============================] - 0s 19ms/step - loss: 0.0806 - mean_squared_logarithmic_error: 0.0807 - val_loss: 0.0623 - val_mean_squared_logarithmic_error: 0.0623\n",
      "Epoch 46/100\n",
      "17/17 [==============================] - 0s 18ms/step - loss: 0.0788 - mean_squared_logarithmic_error: 0.0767 - val_loss: 0.0619 - val_mean_squared_logarithmic_error: 0.0619\n",
      "Epoch 47/100\n",
      "17/17 [==============================] - 0s 19ms/step - loss: 0.0783 - mean_squared_logarithmic_error: 0.0764 - val_loss: 0.0617 - val_mean_squared_logarithmic_error: 0.0617\n",
      "Epoch 48/100\n",
      "17/17 [==============================] - 0s 16ms/step - loss: 0.0732 - mean_squared_logarithmic_error: 0.0725 - val_loss: 0.0617 - val_mean_squared_logarithmic_error: 0.0617\n",
      "Epoch 49/100\n",
      "17/17 [==============================] - 0s 15ms/step - loss: 0.0746 - mean_squared_logarithmic_error: 0.0726 - val_loss: 0.0608 - val_mean_squared_logarithmic_error: 0.0608\n",
      "Epoch 50/100\n",
      "17/17 [==============================] - 0s 18ms/step - loss: 0.0726 - mean_squared_logarithmic_error: 0.0710 - val_loss: 0.0601 - val_mean_squared_logarithmic_error: 0.0601\n",
      "Epoch 51/100\n",
      "17/17 [==============================] - 0s 16ms/step - loss: 0.0725 - mean_squared_logarithmic_error: 0.0711 - val_loss: 0.0599 - val_mean_squared_logarithmic_error: 0.0599\n",
      "Epoch 52/100\n",
      "17/17 [==============================] - 0s 15ms/step - loss: 0.0735 - mean_squared_logarithmic_error: 0.0730 - val_loss: 0.0592 - val_mean_squared_logarithmic_error: 0.0592\n",
      "Epoch 53/100\n",
      "17/17 [==============================] - 0s 16ms/step - loss: 0.0727 - mean_squared_logarithmic_error: 0.0721 - val_loss: 0.0588 - val_mean_squared_logarithmic_error: 0.0588\n",
      "Epoch 54/100\n",
      "17/17 [==============================] - 0s 15ms/step - loss: 0.0697 - mean_squared_logarithmic_error: 0.0693 - val_loss: 0.0580 - val_mean_squared_logarithmic_error: 0.0580\n",
      "Epoch 55/100\n",
      "17/17 [==============================] - 0s 19ms/step - loss: 0.0698 - mean_squared_logarithmic_error: 0.0703 - val_loss: 0.0577 - val_mean_squared_logarithmic_error: 0.0577\n",
      "Epoch 56/100\n",
      "17/17 [==============================] - 0s 15ms/step - loss: 0.0747 - mean_squared_logarithmic_error: 0.0765 - val_loss: 0.0570 - val_mean_squared_logarithmic_error: 0.0570\n",
      "Epoch 57/100\n",
      "17/17 [==============================] - 0s 17ms/step - loss: 0.0678 - mean_squared_logarithmic_error: 0.0669 - val_loss: 0.0569 - val_mean_squared_logarithmic_error: 0.0569\n",
      "Epoch 58/100\n",
      "17/17 [==============================] - 0s 16ms/step - loss: 0.0698 - mean_squared_logarithmic_error: 0.0703 - val_loss: 0.0570 - val_mean_squared_logarithmic_error: 0.0570\n",
      "Epoch 59/100\n",
      "17/17 [==============================] - 0s 17ms/step - loss: 0.0619 - mean_squared_logarithmic_error: 0.0613 - val_loss: 0.0563 - val_mean_squared_logarithmic_error: 0.0563\n",
      "Epoch 60/100\n",
      "17/17 [==============================] - 0s 18ms/step - loss: 0.0652 - mean_squared_logarithmic_error: 0.0668 - val_loss: 0.0558 - val_mean_squared_logarithmic_error: 0.0558\n",
      "Epoch 61/100\n",
      "17/17 [==============================] - 0s 17ms/step - loss: 0.0655 - mean_squared_logarithmic_error: 0.0656 - val_loss: 0.0563 - val_mean_squared_logarithmic_error: 0.0563\n",
      "Epoch 62/100\n",
      "17/17 [==============================] - 0s 22ms/step - loss: 0.0643 - mean_squared_logarithmic_error: 0.0628 - val_loss: 0.0558 - val_mean_squared_logarithmic_error: 0.0558\n",
      "Epoch 63/100\n",
      "17/17 [==============================] - 0s 24ms/step - loss: 0.0635 - mean_squared_logarithmic_error: 0.0637 - val_loss: 0.0554 - val_mean_squared_logarithmic_error: 0.0554\n",
      "Epoch 64/100\n",
      "17/17 [==============================] - 0s 21ms/step - loss: 0.0665 - mean_squared_logarithmic_error: 0.0660 - val_loss: 0.0556 - val_mean_squared_logarithmic_error: 0.0556\n",
      "Epoch 65/100\n",
      "17/17 [==============================] - 0s 25ms/step - loss: 0.0632 - mean_squared_logarithmic_error: 0.0628 - val_loss: 0.0556 - val_mean_squared_logarithmic_error: 0.0556\n",
      "Epoch 66/100\n",
      "17/17 [==============================] - 0s 21ms/step - loss: 0.0650 - mean_squared_logarithmic_error: 0.0654 - val_loss: 0.0546 - val_mean_squared_logarithmic_error: 0.0546\n",
      "Epoch 67/100\n",
      "17/17 [==============================] - 0s 21ms/step - loss: 0.0611 - mean_squared_logarithmic_error: 0.0627 - val_loss: 0.0542 - val_mean_squared_logarithmic_error: 0.0542\n",
      "Epoch 68/100\n",
      "17/17 [==============================] - 0s 19ms/step - loss: 0.0621 - mean_squared_logarithmic_error: 0.0610 - val_loss: 0.0550 - val_mean_squared_logarithmic_error: 0.0550\n",
      "Epoch 69/100\n",
      "17/17 [==============================] - 0s 20ms/step - loss: 0.0630 - mean_squared_logarithmic_error: 0.0630 - val_loss: 0.0546 - val_mean_squared_logarithmic_error: 0.0546\n",
      "Epoch 70/100\n",
      "17/17 [==============================] - 0s 19ms/step - loss: 0.0599 - mean_squared_logarithmic_error: 0.0613 - val_loss: 0.0546 - val_mean_squared_logarithmic_error: 0.0546\n",
      "Epoch 71/100\n",
      "17/17 [==============================] - 0s 19ms/step - loss: 0.0587 - mean_squared_logarithmic_error: 0.0615 - val_loss: 0.0537 - val_mean_squared_logarithmic_error: 0.0537\n",
      "Epoch 72/100\n",
      "17/17 [==============================] - 0s 19ms/step - loss: 0.0610 - mean_squared_logarithmic_error: 0.0608 - val_loss: 0.0548 - val_mean_squared_logarithmic_error: 0.0548\n",
      "Epoch 73/100\n",
      "17/17 [==============================] - 0s 19ms/step - loss: 0.0586 - mean_squared_logarithmic_error: 0.0592 - val_loss: 0.0535 - val_mean_squared_logarithmic_error: 0.0535\n",
      "Epoch 74/100\n",
      "17/17 [==============================] - 0s 22ms/step - loss: 0.0600 - mean_squared_logarithmic_error: 0.0606 - val_loss: 0.0535 - val_mean_squared_logarithmic_error: 0.0535\n",
      "Epoch 75/100\n",
      "17/17 [==============================] - 0s 18ms/step - loss: 0.0614 - mean_squared_logarithmic_error: 0.0639 - val_loss: 0.0543 - val_mean_squared_logarithmic_error: 0.0543\n",
      "Epoch 76/100\n",
      "17/17 [==============================] - 0s 20ms/step - loss: 0.0596 - mean_squared_logarithmic_error: 0.0583 - val_loss: 0.0547 - val_mean_squared_logarithmic_error: 0.0547\n",
      "Epoch 77/100\n",
      "17/17 [==============================] - 0s 16ms/step - loss: 0.0610 - mean_squared_logarithmic_error: 0.0599 - val_loss: 0.0547 - val_mean_squared_logarithmic_error: 0.0547\n",
      "Epoch 78/100\n",
      "17/17 [==============================] - 0s 20ms/step - loss: 0.0556 - mean_squared_logarithmic_error: 0.0549 - val_loss: 0.0540 - val_mean_squared_logarithmic_error: 0.0540\n",
      "Epoch 79/100\n",
      "17/17 [==============================] - 0s 18ms/step - loss: 0.0587 - mean_squared_logarithmic_error: 0.0579 - val_loss: 0.0536 - val_mean_squared_logarithmic_error: 0.0536\n",
      "Epoch 80/100\n",
      "17/17 [==============================] - 0s 20ms/step - loss: 0.0584 - mean_squared_logarithmic_error: 0.0567 - val_loss: 0.0535 - val_mean_squared_logarithmic_error: 0.0535\n",
      "Epoch 81/100\n",
      "17/17 [==============================] - 0s 18ms/step - loss: 0.0589 - mean_squared_logarithmic_error: 0.0590 - val_loss: 0.0536 - val_mean_squared_logarithmic_error: 0.0536\n",
      "Epoch 82/100\n",
      "17/17 [==============================] - 0s 16ms/step - loss: 0.0578 - mean_squared_logarithmic_error: 0.0584 - val_loss: 0.0540 - val_mean_squared_logarithmic_error: 0.0540\n",
      "Epoch 83/100\n",
      "17/17 [==============================] - 0s 18ms/step - loss: 0.0560 - mean_squared_logarithmic_error: 0.0564 - val_loss: 0.0543 - val_mean_squared_logarithmic_error: 0.0543\n",
      "Epoch 84/100\n",
      "17/17 [==============================] - 0s 19ms/step - loss: 0.0577 - mean_squared_logarithmic_error: 0.0570 - val_loss: 0.0535 - val_mean_squared_logarithmic_error: 0.0535\n",
      "Epoch 85/100\n",
      "17/17 [==============================] - 0s 19ms/step - loss: 0.0568 - mean_squared_logarithmic_error: 0.0585 - val_loss: 0.0534 - val_mean_squared_logarithmic_error: 0.0534\n",
      "Epoch 86/100\n",
      "17/17 [==============================] - 0s 15ms/step - loss: 0.0586 - mean_squared_logarithmic_error: 0.0590 - val_loss: 0.0541 - val_mean_squared_logarithmic_error: 0.0541\n",
      "Epoch 87/100\n",
      "17/17 [==============================] - 0s 20ms/step - loss: 0.0552 - mean_squared_logarithmic_error: 0.0547 - val_loss: 0.0533 - val_mean_squared_logarithmic_error: 0.0533\n",
      "Epoch 88/100\n",
      "17/17 [==============================] - 0s 19ms/step - loss: 0.0557 - mean_squared_logarithmic_error: 0.0545 - val_loss: 0.0536 - val_mean_squared_logarithmic_error: 0.0536\n"
     ]
    },
    {
     "name": "stdout",
     "output_type": "stream",
     "text": [
      "Epoch 89/100\n",
      "17/17 [==============================] - 0s 19ms/step - loss: 0.0590 - mean_squared_logarithmic_error: 0.0578 - val_loss: 0.0535 - val_mean_squared_logarithmic_error: 0.0535\n",
      "Epoch 90/100\n",
      "17/17 [==============================] - 0s 21ms/step - loss: 0.0564 - mean_squared_logarithmic_error: 0.0570 - val_loss: 0.0535 - val_mean_squared_logarithmic_error: 0.0535\n",
      "Epoch 91/100\n",
      "17/17 [==============================] - 0s 16ms/step - loss: 0.0566 - mean_squared_logarithmic_error: 0.0555 - val_loss: 0.0536 - val_mean_squared_logarithmic_error: 0.0536\n",
      "Epoch 92/100\n",
      "17/17 [==============================] - 0s 18ms/step - loss: 0.0541 - mean_squared_logarithmic_error: 0.0554 - val_loss: 0.0534 - val_mean_squared_logarithmic_error: 0.0534\n",
      "Epoch 93/100\n",
      "17/17 [==============================] - 0s 16ms/step - loss: 0.0524 - mean_squared_logarithmic_error: 0.0541 - val_loss: 0.0534 - val_mean_squared_logarithmic_error: 0.0534\n",
      "Epoch 94/100\n",
      "17/17 [==============================] - 0s 18ms/step - loss: 0.0544 - mean_squared_logarithmic_error: 0.0547 - val_loss: 0.0540 - val_mean_squared_logarithmic_error: 0.0540\n",
      "Epoch 95/100\n",
      "17/17 [==============================] - 0s 18ms/step - loss: 0.0535 - mean_squared_logarithmic_error: 0.0547 - val_loss: 0.0537 - val_mean_squared_logarithmic_error: 0.0537\n",
      "Epoch 96/100\n",
      "17/17 [==============================] - 0s 18ms/step - loss: 0.0498 - mean_squared_logarithmic_error: 0.0480 - val_loss: 0.0537 - val_mean_squared_logarithmic_error: 0.0537\n",
      "Epoch 97/100\n",
      "17/17 [==============================] - 0s 20ms/step - loss: 0.0512 - mean_squared_logarithmic_error: 0.0526 - val_loss: 0.0530 - val_mean_squared_logarithmic_error: 0.0530\n",
      "Epoch 98/100\n",
      "17/17 [==============================] - 0s 19ms/step - loss: 0.0528 - mean_squared_logarithmic_error: 0.0537 - val_loss: 0.0526 - val_mean_squared_logarithmic_error: 0.0526\n",
      "Epoch 99/100\n",
      "17/17 [==============================] - 0s 15ms/step - loss: 0.0506 - mean_squared_logarithmic_error: 0.0502 - val_loss: 0.0528 - val_mean_squared_logarithmic_error: 0.0528\n",
      "Epoch 100/100\n",
      "17/17 [==============================] - 0s 19ms/step - loss: 0.0517 - mean_squared_logarithmic_error: 0.0519 - val_loss: 0.0533 - val_mean_squared_logarithmic_error: 0.0533\n"
     ]
    }
   ],
   "source": [
    "tf.random.set_seed(42)\n",
    "\n",
    "msle = MeanSquaredLogarithmicError()\n",
    "learning_rate = 0.01\n",
    "\n",
    "model.compile(\n",
    "    loss = msle, \n",
    "    optimizer = Adam(learning_rate = learning_rate), \n",
    "    metrics = [msle]\n",
    ")\n",
    "\n",
    "history = model.fit(\n",
    "    x, \n",
    "    y.ravel(), \n",
    "    epochs=100, \n",
    "    batch_size=64,\n",
    "    validation_split=0.33\n",
    ")"
   ]
  },
  {
   "cell_type": "markdown",
   "id": "76a8d190",
   "metadata": {
    "id": "76a8d190"
   },
   "source": [
    "### Plotting the history"
   ]
  },
  {
   "cell_type": "code",
   "execution_count": 16,
   "id": "de1a48b8",
   "metadata": {
    "colab": {
     "base_uri": "https://localhost:8080/",
     "height": 279
    },
    "id": "de1a48b8",
    "outputId": "d1f3c673-fc8f-43bc-90bd-5fb75df7ac0c",
    "scrolled": true
   },
   "outputs": [
    {
     "data": {
      "image/png": "[encoded data removed]",
      "text/plain": [
       "<Figure size 432x288 with 1 Axes>"
      ]
     },
     "metadata": {
      "needs_background": "light"
     },
     "output_type": "display_data"
    }
   ],
   "source": [
    "def plot_history(history, key):\n",
    "  plt.plot(history.history[key])\n",
    "  plt.plot(history.history['val_'+key])\n",
    "  plt.xlabel(\"Epochs\")\n",
    "  plt.ylabel(key)\n",
    "  plt.legend([key, 'val_'+key])\n",
    "  plt.show()\n",
    "\n",
    "plot_history(history, 'mean_squared_logarithmic_error')"
   ]
  },
  {
   "cell_type": "markdown",
   "id": "eda039d5",
   "metadata": {
    "id": "eda039d5"
   },
   "source": [
    "### Predicting on the test set"
   ]
  },
  {
   "cell_type": "code",
   "execution_count": 17,
   "id": "b27853dc",
   "metadata": {
    "id": "b27853dc",
    "scrolled": true
   },
   "outputs": [
    {
     "name": "stdout",
     "output_type": "stream",
     "text": [
      "21/21 [==============================] - 0s 3ms/step\n"
     ]
    }
   ],
   "source": [
    "results_bonus = test_df.loc[:, ['id']]\n",
    "\n",
    "results_bonus = results_bonus.assign(target = model.predict(x_test))"
   ]
  },
  {
   "cell_type": "markdown",
   "id": "59c8b5d4",
   "metadata": {
    "id": "59c8b5d4"
   },
   "source": [
    "###  Saving the results of the bonus section"
   ]
  },
  {
   "cell_type": "code",
   "execution_count": 18,
   "id": "KFr0tDxtczHa",
   "metadata": {
    "id": "KFr0tDxtczHa"
   },
   "outputs": [],
   "source": [
    "results.to_csv('results_bonus.csv', index = False)"
   ]
  },
  {
   "cell_type": "markdown",
   "id": "7Gl_W1VGIilP",
   "metadata": {
    "id": "7Gl_W1VGIilP"
   },
   "source": [
    "# Part B"
   ]
  },
  {
   "cell_type": "markdown",
   "id": "_QYp9AhfC-Vp",
   "metadata": {
    "id": "_QYp9AhfC-Vp"
   },
   "source": [
    "## Importing some libraries"
   ]
  },
  {
   "cell_type": "code",
   "execution_count": 19,
   "id": "LDwZksPKI1A4",
   "metadata": {
    "id": "LDwZksPKI1A4"
   },
   "outputs": [],
   "source": [
    "from math import ceil"
   ]
  },
  {
   "cell_type": "markdown",
   "id": "a746f690",
   "metadata": {},
   "source": [
    "## Preparing the data for part B"
   ]
  },
  {
   "cell_type": "code",
   "execution_count": 20,
   "id": "-ilJmSddNf4q",
   "metadata": {
    "id": "-ilJmSddNf4q"
   },
   "outputs": [],
   "source": [
    "x_B = partB_df.iloc[:, 7011:7041].values\n",
    "\n",
    "y_B = partB_df.loc[:, ['tempo']].values"
   ]
  },
  {
   "cell_type": "markdown",
   "id": "L-Q5grhsTh8Z",
   "metadata": {
    "id": "L-Q5grhsTh8Z"
   },
   "source": [
    "### Scaling the data"
   ]
  },
  {
   "cell_type": "code",
   "execution_count": 21,
   "id": "170a6285",
   "metadata": {},
   "outputs": [],
   "source": [
    "scalerB = StandardScaler().fit(x_B)\n",
    "x_B = scalerB.transform(x_B)"
   ]
  },
  {
   "cell_type": "markdown",
   "id": "90eb4423",
   "metadata": {},
   "source": [
    "### Performing dimensionality reduction using PCA"
   ]
  },
  {
   "cell_type": "code",
   "execution_count": 22,
   "id": "_Ugum6mKS-dT",
   "metadata": {
    "id": "_Ugum6mKS-dT"
   },
   "outputs": [],
   "source": [
    "x_B = pca.transform(x_B)"
   ]
  },
  {
   "cell_type": "markdown",
   "id": "3d691285",
   "metadata": {},
   "source": [
    "## Implement the *Split Conformal Prediction for Regression* algorithm"
   ]
  },
  {
   "cell_type": "markdown",
   "id": "42383ebe",
   "metadata": {},
   "source": [
    "### Prepraring the $D^{(1)}$ and $D^{(2)}$ dataset"
   ]
  },
  {
   "cell_type": "markdown",
   "id": "4a0abdee",
   "metadata": {},
   "source": [
    "#### Redefining x and y for doing proper data preprocessing"
   ]
  },
  {
   "cell_type": "code",
   "execution_count": 23,
   "id": "c6a31131",
   "metadata": {},
   "outputs": [],
   "source": [
    "x = train_df.iloc[:, 7011:7041].values\n",
    "y = train_df.loc[:, ['tempo']].values"
   ]
  },
  {
   "cell_type": "markdown",
   "id": "54f75632",
   "metadata": {},
   "source": [
    "#### Splitting into training and calibration set"
   ]
  },
  {
   "cell_type": "code",
   "execution_count": 24,
   "id": "972321d3",
   "metadata": {},
   "outputs": [],
   "source": [
    "x_d1, x_d2, y_d1, y_d2 = train_test_split(x, y, test_size=0.5, random_state=42)"
   ]
  },
  {
   "cell_type": "markdown",
   "id": "ae5f8cf9",
   "metadata": {},
   "source": [
    "#### Scaling the data"
   ]
  },
  {
   "cell_type": "code",
   "execution_count": 25,
   "id": "10c7728d",
   "metadata": {},
   "outputs": [],
   "source": [
    "scalerd1 = StandardScaler().fit(x_d1)\n",
    "scalerd2 = StandardScaler().fit(x_d2)\n",
    "\n",
    "x_d1 = scalerd1.transform(x_d1)\n",
    "x_d2 = scalerd2.transform(x_d2)"
   ]
  },
  {
   "cell_type": "markdown",
   "id": "5cfd9a65",
   "metadata": {},
   "source": [
    "#### Performing dimensionality reduction"
   ]
  },
  {
   "cell_type": "code",
   "execution_count": 26,
   "id": "0f396861",
   "metadata": {},
   "outputs": [],
   "source": [
    "x_d1 = pca.transform(x_d1)\n",
    "x_d2 = pca.transform(x_d2)"
   ]
  },
  {
   "cell_type": "markdown",
   "id": "3d5eb65b",
   "metadata": {},
   "source": [
    "### Training on $D^{(1)}$ the ANN"
   ]
  },
  {
   "cell_type": "code",
   "execution_count": 27,
   "id": "c2aec3a1",
   "metadata": {
    "scrolled": true
   },
   "outputs": [
    {
     "name": "stdout",
     "output_type": "stream",
     "text": [
      "Epoch 1/100\n",
      "9/9 [==============================] - 2s 100ms/step - loss: 20.5479 - mean_squared_logarithmic_error: 20.1520 - val_loss: 13.4785 - val_mean_squared_logarithmic_error: 13.4785\n",
      "Epoch 2/100\n",
      "9/9 [==============================] - 0s 36ms/step - loss: 9.5990 - mean_squared_logarithmic_error: 9.1679 - val_loss: 5.2542 - val_mean_squared_logarithmic_error: 5.2542\n",
      "Epoch 3/100\n",
      "9/9 [==============================] - 0s 30ms/step - loss: 3.6852 - mean_squared_logarithmic_error: 3.4931 - val_loss: 2.0703 - val_mean_squared_logarithmic_error: 2.0703\n",
      "Epoch 4/100\n",
      "9/9 [==============================] - 0s 30ms/step - loss: 1.4201 - mean_squared_logarithmic_error: 1.3515 - val_loss: 0.9033 - val_mean_squared_logarithmic_error: 0.9033\n",
      "Epoch 5/100\n",
      "9/9 [==============================] - 0s 39ms/step - loss: 0.6646 - mean_squared_logarithmic_error: 0.6721 - val_loss: 0.4532 - val_mean_squared_logarithmic_error: 0.4532\n",
      "Epoch 6/100\n",
      "9/9 [==============================] - 0s 42ms/step - loss: 0.3722 - mean_squared_logarithmic_error: 0.3480 - val_loss: 0.2661 - val_mean_squared_logarithmic_error: 0.2661\n",
      "Epoch 7/100\n",
      "9/9 [==============================] - 0s 38ms/step - loss: 0.2206 - mean_squared_logarithmic_error: 0.2227 - val_loss: 0.1855 - val_mean_squared_logarithmic_error: 0.1855\n",
      "Epoch 8/100\n",
      "9/9 [==============================] - 0s 31ms/step - loss: 0.1800 - mean_squared_logarithmic_error: 0.1761 - val_loss: 0.1479 - val_mean_squared_logarithmic_error: 0.1479\n",
      "Epoch 9/100\n",
      "9/9 [==============================] - 0s 50ms/step - loss: 0.1642 - mean_squared_logarithmic_error: 0.1576 - val_loss: 0.1287 - val_mean_squared_logarithmic_error: 0.1287\n",
      "Epoch 10/100\n",
      "9/9 [==============================] - 0s 34ms/step - loss: 0.1466 - mean_squared_logarithmic_error: 0.1373 - val_loss: 0.1196 - val_mean_squared_logarithmic_error: 0.1196\n",
      "Epoch 11/100\n",
      "9/9 [==============================] - 0s 42ms/step - loss: 0.1332 - mean_squared_logarithmic_error: 0.1242 - val_loss: 0.1144 - val_mean_squared_logarithmic_error: 0.1144\n",
      "Epoch 12/100\n",
      "9/9 [==============================] - 0s 38ms/step - loss: 0.1352 - mean_squared_logarithmic_error: 0.1315 - val_loss: 0.1107 - val_mean_squared_logarithmic_error: 0.1107\n",
      "Epoch 13/100\n",
      "9/9 [==============================] - 0s 33ms/step - loss: 0.1159 - mean_squared_logarithmic_error: 0.1154 - val_loss: 0.1072 - val_mean_squared_logarithmic_error: 0.1072\n",
      "Epoch 14/100\n",
      "9/9 [==============================] - 0s 33ms/step - loss: 0.1307 - mean_squared_logarithmic_error: 0.1230 - val_loss: 0.1052 - val_mean_squared_logarithmic_error: 0.1052\n",
      "Epoch 15/100\n",
      "9/9 [==============================] - 0s 23ms/step - loss: 0.1216 - mean_squared_logarithmic_error: 0.1275 - val_loss: 0.1035 - val_mean_squared_logarithmic_error: 0.1035\n",
      "Epoch 16/100\n",
      "9/9 [==============================] - 0s 24ms/step - loss: 0.1187 - mean_squared_logarithmic_error: 0.1169 - val_loss: 0.1016 - val_mean_squared_logarithmic_error: 0.1016\n",
      "Epoch 17/100\n",
      "9/9 [==============================] - 0s 25ms/step - loss: 0.1203 - mean_squared_logarithmic_error: 0.1267 - val_loss: 0.1000 - val_mean_squared_logarithmic_error: 0.1000\n",
      "Epoch 18/100\n",
      "9/9 [==============================] - 0s 26ms/step - loss: 0.1146 - mean_squared_logarithmic_error: 0.1124 - val_loss: 0.0985 - val_mean_squared_logarithmic_error: 0.0985\n",
      "Epoch 19/100\n",
      "9/9 [==============================] - 0s 23ms/step - loss: 0.1366 - mean_squared_logarithmic_error: 0.1274 - val_loss: 0.0966 - val_mean_squared_logarithmic_error: 0.0966\n",
      "Epoch 20/100\n",
      "9/9 [==============================] - 0s 24ms/step - loss: 0.1135 - mean_squared_logarithmic_error: 0.1050 - val_loss: 0.0940 - val_mean_squared_logarithmic_error: 0.0940\n",
      "Epoch 21/100\n",
      "9/9 [==============================] - 0s 26ms/step - loss: 0.1218 - mean_squared_logarithmic_error: 0.1154 - val_loss: 0.0924 - val_mean_squared_logarithmic_error: 0.0924\n",
      "Epoch 22/100\n",
      "9/9 [==============================] - 0s 25ms/step - loss: 0.1128 - mean_squared_logarithmic_error: 0.1186 - val_loss: 0.0916 - val_mean_squared_logarithmic_error: 0.0916\n",
      "Epoch 23/100\n",
      "9/9 [==============================] - 0s 27ms/step - loss: 0.1199 - mean_squared_logarithmic_error: 0.1228 - val_loss: 0.0910 - val_mean_squared_logarithmic_error: 0.0910\n",
      "Epoch 24/100\n",
      "9/9 [==============================] - 0s 24ms/step - loss: 0.1076 - mean_squared_logarithmic_error: 0.1143 - val_loss: 0.0902 - val_mean_squared_logarithmic_error: 0.0902\n",
      "Epoch 25/100\n",
      "9/9 [==============================] - 0s 22ms/step - loss: 0.1124 - mean_squared_logarithmic_error: 0.1043 - val_loss: 0.0883 - val_mean_squared_logarithmic_error: 0.0883\n",
      "Epoch 26/100\n",
      "9/9 [==============================] - 0s 24ms/step - loss: 0.1083 - mean_squared_logarithmic_error: 0.1073 - val_loss: 0.0873 - val_mean_squared_logarithmic_error: 0.0873\n",
      "Epoch 27/100\n",
      "9/9 [==============================] - 0s 24ms/step - loss: 0.1128 - mean_squared_logarithmic_error: 0.1060 - val_loss: 0.0866 - val_mean_squared_logarithmic_error: 0.0866\n",
      "Epoch 28/100\n",
      "9/9 [==============================] - 0s 23ms/step - loss: 0.1156 - mean_squared_logarithmic_error: 0.1112 - val_loss: 0.0860 - val_mean_squared_logarithmic_error: 0.0860\n",
      "Epoch 29/100\n",
      "9/9 [==============================] - 0s 22ms/step - loss: 0.1240 - mean_squared_logarithmic_error: 0.1145 - val_loss: 0.0856 - val_mean_squared_logarithmic_error: 0.0856\n",
      "Epoch 30/100\n",
      "9/9 [==============================] - 0s 22ms/step - loss: 0.1081 - mean_squared_logarithmic_error: 0.1085 - val_loss: 0.0846 - val_mean_squared_logarithmic_error: 0.0846\n",
      "Epoch 31/100\n",
      "9/9 [==============================] - 0s 22ms/step - loss: 0.1087 - mean_squared_logarithmic_error: 0.1018 - val_loss: 0.0847 - val_mean_squared_logarithmic_error: 0.0847\n",
      "Epoch 32/100\n",
      "9/9 [==============================] - 0s 23ms/step - loss: 0.1193 - mean_squared_logarithmic_error: 0.1229 - val_loss: 0.0848 - val_mean_squared_logarithmic_error: 0.0848\n",
      "Epoch 33/100\n",
      "9/9 [==============================] - 0s 25ms/step - loss: 0.0920 - mean_squared_logarithmic_error: 0.0925 - val_loss: 0.0847 - val_mean_squared_logarithmic_error: 0.0847\n",
      "Epoch 34/100\n",
      "9/9 [==============================] - 0s 20ms/step - loss: 0.1065 - mean_squared_logarithmic_error: 0.1098 - val_loss: 0.0838 - val_mean_squared_logarithmic_error: 0.0838\n",
      "Epoch 35/100\n",
      "9/9 [==============================] - 0s 21ms/step - loss: 0.0996 - mean_squared_logarithmic_error: 0.0927 - val_loss: 0.0825 - val_mean_squared_logarithmic_error: 0.0825\n",
      "Epoch 36/100\n",
      "9/9 [==============================] - 0s 23ms/step - loss: 0.1117 - mean_squared_logarithmic_error: 0.1066 - val_loss: 0.0813 - val_mean_squared_logarithmic_error: 0.0813\n",
      "Epoch 37/100\n",
      "9/9 [==============================] - 0s 24ms/step - loss: 0.1099 - mean_squared_logarithmic_error: 0.1281 - val_loss: 0.0799 - val_mean_squared_logarithmic_error: 0.0799\n",
      "Epoch 38/100\n",
      "9/9 [==============================] - 0s 26ms/step - loss: 0.1013 - mean_squared_logarithmic_error: 0.1014 - val_loss: 0.0797 - val_mean_squared_logarithmic_error: 0.0797\n",
      "Epoch 39/100\n",
      "9/9 [==============================] - 0s 25ms/step - loss: 0.1082 - mean_squared_logarithmic_error: 0.1040 - val_loss: 0.0797 - val_mean_squared_logarithmic_error: 0.0797\n",
      "Epoch 40/100\n",
      "9/9 [==============================] - 0s 27ms/step - loss: 0.1034 - mean_squared_logarithmic_error: 0.1090 - val_loss: 0.0785 - val_mean_squared_logarithmic_error: 0.0785\n",
      "Epoch 41/100\n",
      "9/9 [==============================] - 0s 28ms/step - loss: 0.0909 - mean_squared_logarithmic_error: 0.0889 - val_loss: 0.0781 - val_mean_squared_logarithmic_error: 0.0781\n",
      "Epoch 42/100\n",
      "9/9 [==============================] - 0s 22ms/step - loss: 0.0952 - mean_squared_logarithmic_error: 0.0880 - val_loss: 0.0781 - val_mean_squared_logarithmic_error: 0.0781\n",
      "Epoch 43/100\n",
      "9/9 [==============================] - 0s 22ms/step - loss: 0.1034 - mean_squared_logarithmic_error: 0.0956 - val_loss: 0.0775 - val_mean_squared_logarithmic_error: 0.0775\n",
      "Epoch 44/100\n",
      "9/9 [==============================] - 0s 23ms/step - loss: 0.0989 - mean_squared_logarithmic_error: 0.1020 - val_loss: 0.0767 - val_mean_squared_logarithmic_error: 0.0767\n",
      "Epoch 45/100\n",
      "9/9 [==============================] - 0s 24ms/step - loss: 0.1045 - mean_squared_logarithmic_error: 0.1011 - val_loss: 0.0779 - val_mean_squared_logarithmic_error: 0.0779\n",
      "Epoch 46/100\n",
      "9/9 [==============================] - 0s 24ms/step - loss: 0.0988 - mean_squared_logarithmic_error: 0.0979 - val_loss: 0.0778 - val_mean_squared_logarithmic_error: 0.0778\n",
      "Epoch 47/100\n",
      "9/9 [==============================] - 0s 22ms/step - loss: 0.0963 - mean_squared_logarithmic_error: 0.0982 - val_loss: 0.0770 - val_mean_squared_logarithmic_error: 0.0770\n",
      "Epoch 48/100\n",
      "9/9 [==============================] - 0s 20ms/step - loss: 0.0953 - mean_squared_logarithmic_error: 0.0959 - val_loss: 0.0759 - val_mean_squared_logarithmic_error: 0.0759\n",
      "Epoch 49/100\n",
      "9/9 [==============================] - 0s 25ms/step - loss: 0.0961 - mean_squared_logarithmic_error: 0.1076 - val_loss: 0.0749 - val_mean_squared_logarithmic_error: 0.0749\n",
      "Epoch 50/100\n",
      "9/9 [==============================] - 0s 23ms/step - loss: 0.0890 - mean_squared_logarithmic_error: 0.0840 - val_loss: 0.0765 - val_mean_squared_logarithmic_error: 0.0765\n",
      "Epoch 51/100\n",
      "9/9 [==============================] - 0s 20ms/step - loss: 0.1007 - mean_squared_logarithmic_error: 0.1069 - val_loss: 0.0763 - val_mean_squared_logarithmic_error: 0.0763\n",
      "Epoch 52/100\n",
      "9/9 [==============================] - 0s 21ms/step - loss: 0.1000 - mean_squared_logarithmic_error: 0.0985 - val_loss: 0.0748 - val_mean_squared_logarithmic_error: 0.0748\n",
      "Epoch 53/100\n",
      "9/9 [==============================] - 0s 23ms/step - loss: 0.0828 - mean_squared_logarithmic_error: 0.0907 - val_loss: 0.0740 - val_mean_squared_logarithmic_error: 0.0740\n",
      "Epoch 54/100\n",
      "9/9 [==============================] - 0s 22ms/step - loss: 0.0870 - mean_squared_logarithmic_error: 0.0838 - val_loss: 0.0743 - val_mean_squared_logarithmic_error: 0.0743\n",
      "Epoch 55/100\n",
      "9/9 [==============================] - 0s 25ms/step - loss: 0.0895 - mean_squared_logarithmic_error: 0.0870 - val_loss: 0.0732 - val_mean_squared_logarithmic_error: 0.0732\n",
      "Epoch 56/100\n",
      "9/9 [==============================] - 0s 24ms/step - loss: 0.0776 - mean_squared_logarithmic_error: 0.0731 - val_loss: 0.0730 - val_mean_squared_logarithmic_error: 0.0730\n",
      "Epoch 57/100\n",
      "9/9 [==============================] - 0s 23ms/step - loss: 0.0804 - mean_squared_logarithmic_error: 0.0778 - val_loss: 0.0723 - val_mean_squared_logarithmic_error: 0.0723\n",
      "Epoch 58/100\n",
      "9/9 [==============================] - 0s 27ms/step - loss: 0.0840 - mean_squared_logarithmic_error: 0.0841 - val_loss: 0.0730 - val_mean_squared_logarithmic_error: 0.0730\n",
      "Epoch 59/100\n",
      "9/9 [==============================] - 0s 23ms/step - loss: 0.0774 - mean_squared_logarithmic_error: 0.0932 - val_loss: 0.0725 - val_mean_squared_logarithmic_error: 0.0725\n",
      "Epoch 60/100\n",
      "9/9 [==============================] - 0s 24ms/step - loss: 0.0932 - mean_squared_logarithmic_error: 0.0911 - val_loss: 0.0715 - val_mean_squared_logarithmic_error: 0.0715\n",
      "Epoch 61/100\n",
      "9/9 [==============================] - 0s 20ms/step - loss: 0.0861 - mean_squared_logarithmic_error: 0.0807 - val_loss: 0.0708 - val_mean_squared_logarithmic_error: 0.0708\n",
      "Epoch 62/100\n",
      "9/9 [==============================] - 0s 22ms/step - loss: 0.0884 - mean_squared_logarithmic_error: 0.0999 - val_loss: 0.0709 - val_mean_squared_logarithmic_error: 0.0709\n",
      "Epoch 63/100\n",
      "9/9 [==============================] - 0s 24ms/step - loss: 0.0862 - mean_squared_logarithmic_error: 0.0854 - val_loss: 0.0721 - val_mean_squared_logarithmic_error: 0.0721\n",
      "Epoch 64/100\n",
      "9/9 [==============================] - 0s 23ms/step - loss: 0.0817 - mean_squared_logarithmic_error: 0.0959 - val_loss: 0.0724 - val_mean_squared_logarithmic_error: 0.0724\n",
      "Epoch 65/100\n",
      "9/9 [==============================] - 0s 23ms/step - loss: 0.0820 - mean_squared_logarithmic_error: 0.0776 - val_loss: 0.0710 - val_mean_squared_logarithmic_error: 0.0710\n",
      "Epoch 66/100\n",
      "9/9 [==============================] - 0s 23ms/step - loss: 0.0834 - mean_squared_logarithmic_error: 0.0787 - val_loss: 0.0706 - val_mean_squared_logarithmic_error: 0.0706\n",
      "Epoch 67/100\n",
      "9/9 [==============================] - 0s 25ms/step - loss: 0.0776 - mean_squared_logarithmic_error: 0.0754 - val_loss: 0.0701 - val_mean_squared_logarithmic_error: 0.0701\n",
      "Epoch 68/100\n",
      "9/9 [==============================] - 0s 22ms/step - loss: 0.0927 - mean_squared_logarithmic_error: 0.0877 - val_loss: 0.0706 - val_mean_squared_logarithmic_error: 0.0706\n",
      "Epoch 69/100\n",
      "9/9 [==============================] - 0s 20ms/step - loss: 0.0839 - mean_squared_logarithmic_error: 0.0841 - val_loss: 0.0717 - val_mean_squared_logarithmic_error: 0.0717\n",
      "Epoch 70/100\n",
      "9/9 [==============================] - 0s 21ms/step - loss: 0.0838 - mean_squared_logarithmic_error: 0.0948 - val_loss: 0.0713 - val_mean_squared_logarithmic_error: 0.0713\n",
      "Epoch 71/100\n",
      "9/9 [==============================] - 0s 23ms/step - loss: 0.0772 - mean_squared_logarithmic_error: 0.0739 - val_loss: 0.0703 - val_mean_squared_logarithmic_error: 0.0703\n",
      "Epoch 72/100\n",
      "9/9 [==============================] - 0s 27ms/step - loss: 0.0882 - mean_squared_logarithmic_error: 0.0843 - val_loss: 0.0698 - val_mean_squared_logarithmic_error: 0.0698\n",
      "Epoch 73/100\n",
      "9/9 [==============================] - 0s 22ms/step - loss: 0.0759 - mean_squared_logarithmic_error: 0.0774 - val_loss: 0.0690 - val_mean_squared_logarithmic_error: 0.0690\n",
      "Epoch 74/100\n",
      "9/9 [==============================] - 0s 26ms/step - loss: 0.0718 - mean_squared_logarithmic_error: 0.0704 - val_loss: 0.0685 - val_mean_squared_logarithmic_error: 0.0685\n",
      "Epoch 75/100\n",
      "9/9 [==============================] - 0s 23ms/step - loss: 0.0789 - mean_squared_logarithmic_error: 0.0786 - val_loss: 0.0682 - val_mean_squared_logarithmic_error: 0.0682\n",
      "Epoch 76/100\n",
      "9/9 [==============================] - 0s 23ms/step - loss: 0.0705 - mean_squared_logarithmic_error: 0.0677 - val_loss: 0.0676 - val_mean_squared_logarithmic_error: 0.0676\n",
      "Epoch 77/100\n",
      "9/9 [==============================] - 0s 22ms/step - loss: 0.0824 - mean_squared_logarithmic_error: 0.0775 - val_loss: 0.0674 - val_mean_squared_logarithmic_error: 0.0674\n",
      "Epoch 78/100\n",
      "9/9 [==============================] - 0s 23ms/step - loss: 0.0794 - mean_squared_logarithmic_error: 0.0807 - val_loss: 0.0671 - val_mean_squared_logarithmic_error: 0.0671\n",
      "Epoch 79/100\n",
      "9/9 [==============================] - 0s 23ms/step - loss: 0.0767 - mean_squared_logarithmic_error: 0.0760 - val_loss: 0.0665 - val_mean_squared_logarithmic_error: 0.0665\n",
      "Epoch 80/100\n",
      "9/9 [==============================] - 0s 24ms/step - loss: 0.0739 - mean_squared_logarithmic_error: 0.0798 - val_loss: 0.0661 - val_mean_squared_logarithmic_error: 0.0661\n",
      "Epoch 81/100\n",
      "9/9 [==============================] - 0s 28ms/step - loss: 0.0768 - mean_squared_logarithmic_error: 0.0734 - val_loss: 0.0646 - val_mean_squared_logarithmic_error: 0.0646\n",
      "Epoch 82/100\n",
      "9/9 [==============================] - 0s 22ms/step - loss: 0.0722 - mean_squared_logarithmic_error: 0.0768 - val_loss: 0.0642 - val_mean_squared_logarithmic_error: 0.0642\n",
      "Epoch 83/100\n",
      "9/9 [==============================] - 0s 20ms/step - loss: 0.0802 - mean_squared_logarithmic_error: 0.0778 - val_loss: 0.0665 - val_mean_squared_logarithmic_error: 0.0665\n",
      "Epoch 84/100\n",
      "9/9 [==============================] - 0s 20ms/step - loss: 0.0774 - mean_squared_logarithmic_error: 0.0776 - val_loss: 0.0696 - val_mean_squared_logarithmic_error: 0.0696\n",
      "Epoch 85/100\n",
      "9/9 [==============================] - 0s 25ms/step - loss: 0.0782 - mean_squared_logarithmic_error: 0.0833 - val_loss: 0.0697 - val_mean_squared_logarithmic_error: 0.0697\n",
      "Epoch 86/100\n",
      "9/9 [==============================] - 0s 25ms/step - loss: 0.0731 - mean_squared_logarithmic_error: 0.0726 - val_loss: 0.0662 - val_mean_squared_logarithmic_error: 0.0662\n",
      "Epoch 87/100\n",
      "9/9 [==============================] - 0s 23ms/step - loss: 0.0775 - mean_squared_logarithmic_error: 0.0795 - val_loss: 0.0646 - val_mean_squared_logarithmic_error: 0.0646\n",
      "Epoch 88/100\n",
      "9/9 [==============================] - 0s 24ms/step - loss: 0.0719 - mean_squared_logarithmic_error: 0.0708 - val_loss: 0.0648 - val_mean_squared_logarithmic_error: 0.0648\n",
      "Epoch 89/100\n"
     ]
    },
    {
     "name": "stdout",
     "output_type": "stream",
     "text": [
      "9/9 [==============================] - 0s 25ms/step - loss: 0.0679 - mean_squared_logarithmic_error: 0.0678 - val_loss: 0.0649 - val_mean_squared_logarithmic_error: 0.0649\n",
      "Epoch 90/100\n",
      "9/9 [==============================] - 0s 25ms/step - loss: 0.0686 - mean_squared_logarithmic_error: 0.0639 - val_loss: 0.0652 - val_mean_squared_logarithmic_error: 0.0652\n",
      "Epoch 91/100\n",
      "9/9 [==============================] - 0s 25ms/step - loss: 0.0761 - mean_squared_logarithmic_error: 0.0751 - val_loss: 0.0650 - val_mean_squared_logarithmic_error: 0.0650\n",
      "Epoch 92/100\n",
      "9/9 [==============================] - 0s 28ms/step - loss: 0.0662 - mean_squared_logarithmic_error: 0.0615 - val_loss: 0.0643 - val_mean_squared_logarithmic_error: 0.0643\n",
      "Epoch 93/100\n",
      "9/9 [==============================] - 0s 24ms/step - loss: 0.0687 - mean_squared_logarithmic_error: 0.0757 - val_loss: 0.0637 - val_mean_squared_logarithmic_error: 0.0637\n",
      "Epoch 94/100\n",
      "9/9 [==============================] - 0s 29ms/step - loss: 0.0630 - mean_squared_logarithmic_error: 0.0657 - val_loss: 0.0635 - val_mean_squared_logarithmic_error: 0.0635\n",
      "Epoch 95/100\n",
      "9/9 [==============================] - 0s 23ms/step - loss: 0.0713 - mean_squared_logarithmic_error: 0.0691 - val_loss: 0.0631 - val_mean_squared_logarithmic_error: 0.0631\n",
      "Epoch 96/100\n",
      "9/9 [==============================] - 0s 23ms/step - loss: 0.0662 - mean_squared_logarithmic_error: 0.0629 - val_loss: 0.0633 - val_mean_squared_logarithmic_error: 0.0633\n",
      "Epoch 97/100\n",
      "9/9 [==============================] - 0s 23ms/step - loss: 0.0652 - mean_squared_logarithmic_error: 0.0679 - val_loss: 0.0626 - val_mean_squared_logarithmic_error: 0.0626\n",
      "Epoch 98/100\n",
      "9/9 [==============================] - 0s 26ms/step - loss: 0.0625 - mean_squared_logarithmic_error: 0.0603 - val_loss: 0.0627 - val_mean_squared_logarithmic_error: 0.0627\n",
      "Epoch 99/100\n",
      "9/9 [==============================] - 0s 21ms/step - loss: 0.0708 - mean_squared_logarithmic_error: 0.0681 - val_loss: 0.0617 - val_mean_squared_logarithmic_error: 0.0617\n",
      "Epoch 100/100\n",
      "9/9 [==============================] - 0s 20ms/step - loss: 0.0668 - mean_squared_logarithmic_error: 0.0650 - val_loss: 0.0625 - val_mean_squared_logarithmic_error: 0.0625\n"
     ]
    }
   ],
   "source": [
    "modelB = Sequential([\n",
    "    Dense(pca.n_components_, kernel_initializer = 'normal', activation = 'relu'),\n",
    "    Dropout(0.2),\n",
    "    Dense(100, kernel_initializer = 'normal', activation = 'relu'),\n",
    "    Dense(1, kernel_initializer='normal', activation='linear')\n",
    "])\n",
    "\n",
    "tf.random.set_seed(42)\n",
    "\n",
    "msle = MeanSquaredLogarithmicError()\n",
    "learning_rate = 0.01\n",
    "\n",
    "modelB.compile(\n",
    "    loss = msle, \n",
    "    optimizer = Adam(learning_rate = learning_rate), \n",
    "    metrics = [msle]\n",
    ")\n",
    "\n",
    "historyB = modelB.fit(\n",
    "    x_d1, \n",
    "    y_d1.ravel(), \n",
    "    epochs=100, \n",
    "    batch_size=64,\n",
    "    validation_split=0.33\n",
    ")"
   ]
  },
  {
   "cell_type": "code",
   "execution_count": 28,
   "id": "15d1f49b",
   "metadata": {},
   "outputs": [
    {
     "data": {
      "image/png": "[encoded data removed]",
      "text/plain": [
       "<Figure size 432x288 with 1 Axes>"
      ]
     },
     "metadata": {
      "needs_background": "light"
     },
     "output_type": "display_data"
    }
   ],
   "source": [
    "plot_history(historyB, 'mean_squared_logarithmic_error')"
   ]
  },
  {
   "cell_type": "markdown",
   "id": "e836bce1",
   "metadata": {},
   "source": [
    "### Predict and evaluate the residuals on $D^{(2)}$"
   ]
  },
  {
   "cell_type": "code",
   "execution_count": 29,
   "id": "3edd1cce",
   "metadata": {
    "scrolled": true
   },
   "outputs": [
    {
     "name": "stdout",
     "output_type": "stream",
     "text": [
      "25/25 [==============================] - 0s 4ms/step\n"
     ]
    }
   ],
   "source": [
    "pred = modelB.predict(x_d2)\n",
    "\n",
    "residuals = np.array([abs(float(y_d2[i]- pred[i])) for i in range(len(y_d2))])"
   ]
  },
  {
   "cell_type": "markdown",
   "id": "911bb949",
   "metadata": {},
   "source": [
    "### Finding $d$"
   ]
  },
  {
   "cell_type": "code",
   "execution_count": 30,
   "id": "cf1ba11b",
   "metadata": {
    "scrolled": false
   },
   "outputs": [
    {
     "name": "stdout",
     "output_type": "stream",
     "text": [
      "d is equal to: 23.3392333984375\n"
     ]
    }
   ],
   "source": [
    "alpha = 0.4\n",
    "\n",
    "k = ceil((len(y)/2+1)*(1-alpha))\n",
    "\n",
    "d = np.sort(residuals)[k-1]\n",
    "\n",
    "print(\"d is equal to:\", d)"
   ]
  },
  {
   "cell_type": "markdown",
   "id": "184fcd76",
   "metadata": {},
   "source": [
    "### Prediction intervals"
   ]
  },
  {
   "cell_type": "code",
   "execution_count": 31,
   "id": "c71ba6d5",
   "metadata": {},
   "outputs": [
    {
     "name": "stdout",
     "output_type": "stream",
     "text": [
      "1/1 [==============================] - 0s 93ms/step\n"
     ]
    }
   ],
   "source": [
    "pred_b = modelB.predict(x_B)\n",
    "predictions = [[float(elem-d), float(elem+d)] for elem in pred_b]"
   ]
  },
  {
   "cell_type": "markdown",
   "id": "033829ac",
   "metadata": {},
   "source": [
    "### Check if the our intervals cover the actual response"
   ]
  },
  {
   "cell_type": "code",
   "execution_count": 32,
   "id": "eeaa6695",
   "metadata": {
    "scrolled": true
   },
   "outputs": [
    {
     "name": "stdout",
     "output_type": "stream",
     "text": [
      "1 [128.] [102.82158660888672, 149.50006103515625] True\n",
      "2 [175.] [107.43702697753906, 154.11549377441406] False\n",
      "3 [113.] [127.48135375976562, 174.15982055664062] False\n",
      "4 [137.6] [132.69534301757812, 179.37380981445312] True\n",
      "5 [110.] [97.92150115966797, 144.5999755859375] True\n",
      "6 [134.] [103.06685638427734, 149.74533081054688] True\n",
      "7 [180.] [113.42539978027344, 160.10386657714844] False\n",
      "8 [174.] [134.51504516601562, 181.19351196289062] True\n",
      "9 [134.] [99.95001220703125, 146.62847900390625] True\n",
      "10 [126.] [115.32115173339844, 161.99961853027344] True\n",
      "\n",
      "Percentage of True ( that should be >= 0.6 ): 0.7\n"
     ]
    }
   ],
   "source": [
    "count = 0\n",
    "for i in range(len(y_B)):\n",
    "    if y_B[i] >= predictions[i][0] and y_B[i] <= predictions[i][1]:\n",
    "        print(i+1, y_B[i], predictions[i], True)\n",
    "        count += 1\n",
    "    else:\n",
    "        print(i+1, y_B[i], predictions[i], False)\n",
    "\n",
    "print()\n",
    "print(\"Percentage of True ( that should be >=\", 1-alpha, \"):\", count/len(y_B))"
   ]
  },
  {
   "cell_type": "markdown",
   "id": "18ae3181",
   "metadata": {},
   "source": [
    "### Visualization of the results"
   ]
  },
  {
   "cell_type": "code",
   "execution_count": 33,
   "id": "81c52592",
   "metadata": {
    "scrolled": false
   },
   "outputs": [
    {
     "data": {
      "image/png": "[encoded data removed]",
      "text/plain": [
       "<Figure size 432x288 with 1 Axes>"
      ]
     },
     "metadata": {
      "needs_background": "light"
     },
     "output_type": "display_data"
    }
   ],
   "source": [
    "x = list(range(1, 11))\n",
    "\n",
    "start = [pred[0] for pred in predictions]\n",
    "stop = [pred[1] for pred in predictions]\n",
    "\n",
    "plt.xlim(0, 11)\n",
    "plt.ylim(0, 200)\n",
    "\n",
    "plt.vlines(x, start, stop, 'r', lw=4, label = \"Confidence Interval\")\n",
    "plt.plot(x, pred_b, 'o', color = 'y', label = \"Prediction\")\n",
    "plt.plot(x, y_B, 'o', label = \"Target\")\n",
    "plt.legend()\n",
    "\n",
    "plt.show()"
   ]
  },
  {
   "cell_type": "markdown",
   "id": "538a8b83",
   "metadata": {},
   "source": [
    "### Comment"
   ]
  },
  {
   "cell_type": "markdown",
   "id": "1feca8ec",
   "metadata": {},
   "source": [
    "Using the **Split Conformal Prediction for Regression** we're able to give as output a set on confidence interval: this means that we're confident that the target value will be inside this interval with a probability $P\\ge 1-\\alpha$, in our case ($\\alpha = 0.4$) with $P\\ge 0.6$; this can be also be seen from the figure above, in which the *target values* falls into the confidece intervals in 7 cases of 10, so with a probability of $P'=0.7$, which is greater than 0.6."
   ]
  },
  {
   "cell_type": "markdown",
   "id": "95da9fb0",
   "metadata": {},
   "source": [
    "## Building the predictive sets for the randomly picked $m=100$ observations of the test set"
   ]
  },
  {
   "cell_type": "code",
   "execution_count": 34,
   "id": "cadc92ba",
   "metadata": {},
   "outputs": [
    {
     "name": "stdout",
     "output_type": "stream",
     "text": [
      "4/4 [==============================] - 0s 4ms/step\n"
     ]
    }
   ],
   "source": [
    "np.random.seed(1234)\n",
    "\n",
    "random_idx = np.random.choice(len(test_df), size = 100)\n",
    "\n",
    "random_df = test_df.iloc[random_idx]\n",
    "\n",
    "x_random = random_df.iloc[:, 7011:7041].values\n",
    "x_random = StandardScaler().fit_transform(x_random)\n",
    "x_random = pca.transform(x_random)\n",
    "\n",
    "pred_btest = modelB.predict(x_random)\n",
    "predictions_test = [[float(elem-d), float(elem+d)] for elem in pred_btest]"
   ]
  },
  {
   "cell_type": "markdown",
   "id": "d909019f",
   "metadata": {},
   "source": [
    "### Visualization of the intervals"
   ]
  },
  {
   "cell_type": "code",
   "execution_count": 35,
   "id": "9a3b4c06",
   "metadata": {},
   "outputs": [
    {
     "data": {
      "image/png": "[encoded data removed]",
      "text/plain": [
       "<Figure size 432x288 with 1 Axes>"
      ]
     },
     "metadata": {
      "needs_background": "light"
     },
     "output_type": "display_data"
    }
   ],
   "source": [
    "x = list(range(1, 101))\n",
    "\n",
    "start = [pred[0] for pred in predictions_test]\n",
    "stop = [pred[1] for pred in predictions_test]\n",
    "\n",
    "plt.xlim(0, 101)\n",
    "plt.ylim(0, 250)\n",
    "\n",
    "plt.vlines(x, start, stop, 'r', lw=4, label = \"Confidence Interval\")\n",
    "plt.plot(x, pred_btest, 'o', color = 'y', label = \"Prediction\")\n",
    "plt.legend()\n",
    "\n",
    "plt.show()"
   ]
  },
  {
   "cell_type": "markdown",
   "id": "2c87635d",
   "metadata": {},
   "source": [
    "### Comment"
   ]
  },
  {
   "cell_type": "markdown",
   "id": "67e49a53",
   "metadata": {},
   "source": [
    "The **Split Conformal Prediction for Regression** gives us more confidece in using our model to predict on the test set: we have the security of having at least $1-\\alpha$ % of the target values (in  our case the $0.6$%) falling into our confidence intervals.\n",
    "\n",
    "We've have to remember that for gaining this confidence in the output, we're sacrificing half of our training set (loosing training values). To fully understand this last statement we can use as an example our models:\n",
    "using all the train set in training as for the first model makes our model gain more knowledge of the data distribution, while using part of that set to build confidence intervals, makes the output more resilient to variance; **we're sacrificing knowledge for confidence**."
   ]
  }
 ],
 "metadata": {
  "authors": [
   {
    "name": "Mario Edoardo Pandolfo"
   },
   {
    "name": "Hejaz Nawasser"
   },
   {
    "name": "Salim Sikder"
   }
  ],
  "colab": {
   "collapsed_sections": [],
   "name": "code.ipynb",
   "provenance": []
  },
  "kernelspec": {
   "display_name": "Python 3 (ipykernel)",
   "language": "python",
   "name": "python3"
  },
  "language_info": {
   "codemirror_mode": {
    "name": "ipython",
    "version": 3
   },
   "file_extension": ".py",
   "mimetype": "text/x-python",
   "name": "python",
   "nbconvert_exporter": "python",
   "pygments_lexer": "ipython3",
   "version": "3.10.5"
  },
  "title": "Statistical Learning Homework 2"
 },
 "nbformat": 4,
 "nbformat_minor": 5
}
