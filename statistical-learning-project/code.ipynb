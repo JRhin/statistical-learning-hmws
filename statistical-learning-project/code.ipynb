{
 "cells": [
  {
   "cell_type": "markdown",
   "id": "c236a8f8",
   "metadata": {
    "id": "c236a8f8"
   },
   "source": [
    "# Collect some tweets from Twitter\n",
    "We use snscrape library to retrieve tweets from twitter, and since the project is about classifying the tweets as offensive and non-offensive, we restricted our search by using a list of words and phrases (it will give us only the tweets that contains one or more of these words and phrases). Then, we used pandas to save these tweets as a csv file."
   ]
  },
  {
   "cell_type": "markdown",
   "id": "50315a32",
   "metadata": {
    "id": "50315a32"
   },
   "source": [
    "```python\n",
    "\n",
    "import snscrape.modules.twitter as sntwitter\n",
    "import pandas as pd\n",
    "import tqdm             # to show the progress of the operation\n",
    "\n",
    "queries = ['flower', 'plant', 'cloud', 'montain', 'sea', 'moon', 'sand',\n",
    "           'motherfucker', 'dickhead', 'dick','fat', 'suck my dick',\n",
    "           'fucker', 'kill your self', 'niggers', 'bang your mom',\n",
    "           'whore', 'fuck you','hope you die', 'just die', 'death',\n",
    "           'kill', 'fuck', 'shit', 'pussy', 'cancer', 'love','hate',\n",
    "           'moron', 'balls', 'suck my balls', 'rape', 'asshole','bitch']\n",
    "tweets = []\n",
    "limit = 1500   # for each phrase or word\n",
    "\n",
    "for query in tqdm.tqdm(queries):\n",
    "    count = 0\n",
    "    #search tweets for each word or phrase from the list at a time\n",
    "    for tweet in sntwitter.TwitterSearchScraper(query).get_items():     \n",
    "        if count  == limit:\n",
    "            break\n",
    "        else:\n",
    "            # using just the content (text)of the tweet\n",
    "            tweets.append([tweet.content])\n",
    "            count += 1\n",
    "\n",
    "df = pd.DataFrame(tweets, columns = ['Tweet'])\n",
    "\n",
    "df.to_csv('n_data.csv', index = False)\n",
    "```"
   ]
  },
  {
   "cell_type": "markdown",
   "id": "484ecfa8",
   "metadata": {
    "id": "484ecfa8"
   },
   "source": [
    "# Data preprocessing\n",
    "In this stage and after labeling the tweets manually, we start to clean the data to be used it in our models. First, we remove the usernames and website addresses and any links (contents that do not provide any information to our model) from the tweets, and add these tweets to the empty Dataframe that we created using pandas. Next, we eliminate the duplications and null values from our Dataframe. The model cannot work on tweets with different languages so we use LangeDetect library to recognize and eliminate the non-English words and phrases from tweets. Now our dataset is preprocessed and ready to be used in our model."
   ]
  },
  {
   "cell_type": "markdown",
   "id": "d80c5cb8",
   "metadata": {
    "id": "d80c5cb8"
   },
   "source": [
    "```python\n",
    "\n",
    "import pandas as pd\n",
    "from langdetect import detect\n",
    "import tqdm\n",
    "\n",
    "df = pd.read_csv('data.csv')\n",
    "\n",
    "# create an empty Dataframe\n",
    "prep_df = pd.DataFrame(columns =['Tweet', 'Label'])\n",
    "\n",
    "print(\"Deleting users name and urls:\")\n",
    "\n",
    "for tweet in tqdm.tqdm(df['Tweet']):\n",
    "    tweet_words = []\n",
    "    for word in str(tweet).split(' '):\n",
    "        if word.startswith('@'):   # removing usernames\n",
    "            word = ''\n",
    "        elif word.startswith('http'):   # removing websites links\n",
    "            word = ''\n",
    "        elif word.startswith('https'):\n",
    "            word = ''\n",
    "        tweet_words.append(word)\n",
    "    prep_tweet = \" \".join(tweet_words)    \n",
    "    # adding the cleaned tweets to the empty Dataframe\n",
    "    prep_df = pd.concat( [prep_df, pd.DataFrame({\"Tweet\": [prep_tweet],\n",
    "                                                 \"Label\": 0})],\n",
    "                        ignore_index = True)\n",
    "\n",
    "prep_df = prep_df.drop_duplicates()      # deleting the repeated tweets\n",
    "\n",
    "prep_df = prep_df.dropna()               # delete the null values\n",
    "\n",
    "print(\"Deleting non english tweets:\")\n",
    "\n",
    "tweets = prep_df['Tweet']\n",
    "\n",
    "for tweet in tqdm.tqdm(prep_df['Tweet']):\n",
    "    try:\n",
    "        language = detect(tweet)  # to detect the language of the text\n",
    "    except:\n",
    "        prep_df = prep_df[prep_df['Tweet']!=tweet]\n",
    "        continue\n",
    "    if language != 'en':\n",
    "        # removing the non-English tweets\n",
    "        prep_df = prep_df[prep_df['Tweet']!=tweet]\n",
    "\n",
    "print(\"Number of total preprocessed data:\", len(prep_df))\n",
    "\n",
    "prep_df = prep_df.drop_duplicates(subset=['Tweet'])\n",
    "\n",
    "prep_df.to_csv('prep_data.csv', index = False)\n",
    "```"
   ]
  },
  {
   "cell_type": "markdown",
   "id": "51b43321",
   "metadata": {
    "id": "51b43321"
   },
   "source": [
    "# Working on the classification models"
   ]
  },
  {
   "cell_type": "markdown",
   "id": "d94d90f1",
   "metadata": {
    "id": "d94d90f1"
   },
   "source": [
    "## Importing all the required libraries"
   ]
  },
  {
   "cell_type": "code",
   "execution_count": 1,
   "id": "f84db9c0",
   "metadata": {
    "colab": {
     "base_uri": "https://localhost:8080/"
    },
    "id": "f84db9c0",
    "outputId": "e1eaa43d-b014-4696-9de8-28bd174ac9bb"
   },
   "outputs": [
    {
     "name": "stderr",
     "output_type": "stream",
     "text": [
      "[nltk_data] Downloading package punkt to /home/jrhin/nltk_data...\n",
      "[nltk_data]   Package punkt is already up-to-date!\n",
      "[nltk_data] Downloading package stopwords to /home/jrhin/nltk_data...\n",
      "[nltk_data]   Package stopwords is already up-to-date!\n"
     ]
    }
   ],
   "source": [
    "import pandas as pd\n",
    "import matplotlib.pyplot as plt\n",
    "import numpy as np\n",
    "import string\n",
    "\n",
    "from sklearn.model_selection import train_test_split, RandomizedSearchCV, GridSearchCV, PredefinedSplit\n",
    "\n",
    "import nltk\n",
    "from nltk.corpus import stopwords\n",
    "from nltk.stem.snowball import EnglishStemmer\n",
    "from nltk import word_tokenize; nltk.download('punkt')\n",
    "nltk.download('stopwords')\n",
    "\n",
    "from sentence_transformers import SentenceTransformer\n",
    "\n",
    "from sklearn.feature_extraction.text import TfidfVectorizer, CountVectorizer\n",
    "\n",
    "from sklearn.decomposition import PCA\n",
    "\n",
    "from sklearn.pipeline import Pipeline\n",
    "\n",
    "\n",
    "from sklearn.naive_bayes import MultinomialNB\n",
    "from sklearn.neighbors import KNeighborsClassifier\n",
    "from sklearn.svm import SVC\n",
    "from sklearn.tree import DecisionTreeClassifier\n",
    "from sklearn.ensemble import RandomForestClassifier, GradientBoostingClassifier\n",
    "from sklearn.linear_model import LogisticRegression\n",
    "\n",
    "from sklearn import metrics"
   ]
  },
  {
   "cell_type": "markdown",
   "id": "b4f469b7",
   "metadata": {
    "id": "b4f469b7"
   },
   "source": [
    "## Loading the labeled data"
   ]
  },
  {
   "cell_type": "code",
   "execution_count": 2,
   "id": "6aa383c8",
   "metadata": {
    "id": "6aa383c8"
   },
   "outputs": [],
   "source": [
    "data = pd.read_csv('labeled_data.csv')  "
   ]
  },
  {
   "cell_type": "markdown",
   "id": "f062e3e7",
   "metadata": {
    "id": "f062e3e7"
   },
   "source": [
    "## Visualizating the data\n",
    "shows how the data distributed, as it can be seen we have almost an balanced data. The chart shows the percentage of the two categories, 51.5% (a bit more than the half) of the data are labeles as non-offensive and 48.5% are as offensive, which means they are almost evenly distributed."
   ]
  },
  {
   "cell_type": "code",
   "execution_count": 3,
   "id": "2dfecf44",
   "metadata": {
    "id": "2dfecf44",
    "outputId": "59ccddf7-7bd2-4433-d675-2364a48db92d",
    "scrolled": true
   },
   "outputs": [
    {
     "data": {
      "text/html": [
       "<div>\n",
       "<style scoped>\n",
       "    .dataframe tbody tr th:only-of-type {\n",
       "        vertical-align: middle;\n",
       "    }\n",
       "\n",
       "    .dataframe tbody tr th {\n",
       "        vertical-align: top;\n",
       "    }\n",
       "\n",
       "    .dataframe thead th {\n",
       "        text-align: right;\n",
       "    }\n",
       "</style>\n",
       "<table border=\"1\" class=\"dataframe\">\n",
       "  <thead>\n",
       "    <tr style=\"text-align: right;\">\n",
       "      <th></th>\n",
       "      <th>Tweet</th>\n",
       "      <th>Label</th>\n",
       "    </tr>\n",
       "  </thead>\n",
       "  <tbody>\n",
       "    <tr>\n",
       "      <th>0</th>\n",
       "      <td>in the spirit of gender equality, i will now b...</td>\n",
       "      <td>0.0</td>\n",
       "    </tr>\n",
       "    <tr>\n",
       "      <th>1</th>\n",
       "      <td>motherfucker really said “do me a favor”</td>\n",
       "      <td>1.0</td>\n",
       "    </tr>\n",
       "    <tr>\n",
       "      <th>2</th>\n",
       "      <td>About is about perspective they say, but in a...</td>\n",
       "      <td>1.0</td>\n",
       "    </tr>\n",
       "    <tr>\n",
       "      <th>3</th>\n",
       "      <td>40 fucks in mine! 11 goddamns. 21 shits. And...</td>\n",
       "      <td>1.0</td>\n",
       "    </tr>\n",
       "    <tr>\n",
       "      <th>4</th>\n",
       "      <td>Motherfucker you are exactly the reason why p...</td>\n",
       "      <td>1.0</td>\n",
       "    </tr>\n",
       "  </tbody>\n",
       "</table>\n",
       "</div>"
      ],
      "text/plain": [
       "                                               Tweet  Label\n",
       "0  in the spirit of gender equality, i will now b...    0.0\n",
       "1          motherfucker really said “do me a favor”     1.0\n",
       "2   About is about perspective they say, but in a...    1.0\n",
       "3    40 fucks in mine! 11 goddamns. 21 shits. And...    1.0\n",
       "4   Motherfucker you are exactly the reason why p...    1.0"
      ]
     },
     "metadata": {},
     "output_type": "display_data"
    },
    {
     "name": "stdout",
     "output_type": "stream",
     "text": [
      "Number of tweets: 17736\n",
      "Distribution of the labels:\n",
      "0.0    9136\n",
      "1.0    8600\n",
      "Name: Label, dtype: int64\n"
     ]
    },
    {
     "data": {
      "image/png": "[encoded data removed]",
      "text/plain": [
       "<Figure size 432x288 with 1 Axes>"
      ]
     },
     "metadata": {},
     "output_type": "display_data"
    }
   ],
   "source": [
    "display(data.head())\n",
    "\n",
    "print(\"Number of tweets:\", len(data))\n",
    "print(\"Distribution of the labels:\")\n",
    "print(data.Label.value_counts())\n",
    "plt.pie(list(data.Label.value_counts()/len(data.Label)), startangle=90, labels = ['Non Offensive', 'Offensive'], autopct='%1.1f%%')\n",
    "plt.title('Distribution of the labels')\n",
    "plt.show()"
   ]
  },
  {
   "cell_type": "markdown",
   "id": "e42670a7",
   "metadata": {
    "id": "e42670a7"
   },
   "source": [
    "## Defining $x$ and $y$, and then deviding them in training, validation and testing set\n",
    "\n",
    "The column `Tweet` is the content (text) of tweets so it is the festures of data), and the column `Label` demonstrates the categories of those tweets. \n",
    "We, first split the whole data into two dataset : `train set` (15075 rows) and `test set` (0.15 of the data (2661 rows) that will be used to evaluate the performance of the models (classifiers) on unseen data by predicting their labels), then we split the Train set into two subsets : `train set` (used to train the model) and  `val set`( 0.18 of the train set from the first split = 2714).\n",
    "\n",
    "At the end, we have set a grid search using `PredifinedSplit` method from `sklean` by defining the index `0` for `validation set` and `-1` for `train set`\n",
    "\n",
    "\n"
   ]
  },
  {
   "cell_type": "code",
   "execution_count": 4,
   "id": "54af79e4",
   "metadata": {
    "id": "54af79e4"
   },
   "outputs": [],
   "source": [
    "x = data.Tweet.to_numpy()\n",
    "y = data.Label.to_numpy()\n",
    "\n",
    "X_train, x_test, Y_train, y_test = train_test_split(x, y, test_size = 0.15, shuffle = True, random_state = 42)\n",
    "x_train, x_val, y_train, y_val = train_test_split(X_train, Y_train, test_size=0.18, shuffle=True, random_state = 42)\n",
    "\n",
    "split_index = [-1 if elem in x_train else 0 for elem in X_train]  # implementing a grid search using PredefinedSplit method \n",
    "ps = PredefinedSplit(test_fold = split_index)"
   ]
  },
  {
   "cell_type": "markdown",
   "id": "35001169",
   "metadata": {
    "id": "35001169"
   },
   "source": [
    "# Using *TfidfVectorizer* \n",
    "\n",
    "Since the Machine Learning algorithms deal with numbers and take vectors of numeric features, we need to transform the text data into numeric vactors to be able to use it in these algorithms; for this purpose, we defined a vectorizer using the `TfidfVectorizer` method from `sklearn` library to extract the features from the text (`tf-idf` means term-frequency times inverse document-frequency, and the goal of using this method is to scale down the impact of tokens that occur very frequently in a given corpus(set) and that empirically provides less information than features that occur in a small fraction of the training corpus).  \n",
    "\n",
    "The `EnglishStemmer` method form `nltk` libarry (a Natural Language Processing libarary to process the text data) helped us stem the words to their root so instead of processing different type of a word (containing prefix, suffix, ...), it deals with just the root.\n",
    "\n",
    "A function also is defined to remove the `stop words`, because by removing these frequently used words, the focus will be given to the words the define the meaning of the text.Therefore, after defining the stopwords using `nltk` library, we remove them from the text using `EnglishStemmer` method.\n"
   ]
  },
  {
   "cell_type": "code",
   "execution_count": 5,
   "id": "343b3436",
   "metadata": {
    "id": "343b3436"
   },
   "outputs": [],
   "source": [
    "vectorizer = TfidfVectorizer(strip_accents = 'ascii', preprocessor = None)   #define vectorizer\n",
    "\n",
    "stemmer = EnglishStemmer()                                                   #define stemmer\n",
    "\n",
    "english_stopwords = set(stopwords.words('english'))                          # define the stopwords using the stopwords methods in Nltk library \n",
    "\n",
    "#functions for stemming\n",
    "def stemming_tokenizer(text):\n",
    "\t# stemming each word to its root by removing the prefix and suffix  \n",
    "\tstemmed_text = [stemmer.stem(word) for word in word_tokenize(text, language='english')]\n",
    "\treturn stemmed_text\n",
    "\n",
    "def stemming_stop_tokenizer(text):\n",
    "\t# removing the stop words\n",
    "\tstemmed_text = [stemmer.stem(word) for word in word_tokenize(text, language='english') if word not in english_stopwords]\n",
    "\treturn stemmed_text\n",
    "#dictionary containing configuration\n",
    "conf = {'vect__tokenizer': [None, stemming_tokenizer, stemming_stop_tokenizer], 'vect__ngram_range': [(1, 1), (1, 2), (1, 3)], 'vect__min_df': [0.0, 0.1, 0.2]}\n"
   ]
  },
  {
   "cell_type": "markdown",
   "id": "27c91666",
   "metadata": {
    "id": "27c91666"
   },
   "source": [
    "## Defining the classifiers and their paramenters\n",
    "\n",
    "After importing the classifier from `sklearn` library,here we define each of them by setting the its main parameter. We have used numbers of classifier to compare their performance in analysing text data using different hypeparameters.\n",
    "\n",
    "List of used Classifiers:\n",
    "\n",
    "- `The multinomial Naive Bayes classifier` is normally used with disceret features, but it also works well on fractional feature (tf-idf features)\n",
    "\n",
    "- `KNeighborsClassifier` \n",
    "- `Support Vector Machine`\n",
    "- `DecisionTreeClassifier`\n",
    "- `RandomForestClassifier`\n",
    "- `LogisticRegression`\n",
    "- `GradientBoostingClassifier`\n"
   ]
  },
  {
   "cell_type": "code",
   "execution_count": 6,
   "id": "826592b9",
   "metadata": {
    "id": "826592b9"
   },
   "outputs": [],
   "source": [
    "MNB = MultinomialNB()\n",
    "KNN = KNeighborsClassifier(n_jobs = -1)\n",
    "SVM = SVC(random_state = 42)\n",
    "DT = DecisionTreeClassifier(random_state = 42)\n",
    "RF = RandomForestClassifier(random_state = 42)\n",
    "LR = LogisticRegression(random_state = 42)\n",
    "GBC = GradientBoostingClassifier(random_state = 42)\n",
    "\n",
    "MNB_param = {'MNB__alpha': [0.01, 0.1, 1.0]}    \n",
    "KNN_param = {'KNN__n_neighbors': [3, 5, 10]}\n",
    "SVM_param = {'SVM__kernel': ['poly', 'sigmoid']}\n",
    "DT_param = {'DT__criterion': ['gini', 'entropy']}\n",
    "RF_param = {'RF__criterion': ['gini', 'entropy']}\n",
    "LR_param = {'LR__penalty': ['l1', 'l2', 'elasticnet', 'none']}\n",
    "GBC_param = {'GBC__loss': ['log_loss', 'exponential'], 'GBC__learning_rate': [0.1, 0.01, 0.001]}"
   ]
  },
  {
   "cell_type": "markdown",
   "id": "7b844920",
   "metadata": {
    "id": "7b844920"
   },
   "source": [
    "## Performing a randomized search for each classifier\n",
    "\n",
    "After defining the classsifiers and setting a range for their parameter, we have made a pipeline for each model applying a grid search to find the best parameter. In the grid search and for each model, we compare the `f1` score derived from different values for the parameter using the data split that is done using `PredifinedSplit` method."
   ]
  },
  {
   "cell_type": "code",
   "execution_count": 7,
   "id": "1fe6f9f7",
   "metadata": {
    "id": "1fe6f9f7",
    "outputId": "5b0e4424-a4e7-49fa-a96d-c9531fb3a45b"
   },
   "outputs": [
    {
     "name": "stderr",
     "output_type": "stream",
     "text": [
      "/home/jrhin/Uni/sl/slenv/lib/python3.10/site-packages/sklearn/linear_model/_logistic.py:444: ConvergenceWarning: lbfgs failed to converge (status=1):\n",
      "STOP: TOTAL NO. of ITERATIONS REACHED LIMIT.\n",
      "\n",
      "Increase the number of iterations (max_iter) or scale the data as shown in:\n",
      "    https://scikit-learn.org/stable/modules/preprocessing.html\n",
      "Please also refer to the documentation for alternative solver options:\n",
      "    https://scikit-learn.org/stable/modules/linear_model.html#logistic-regression\n",
      "  n_iter_i = _check_optimize_result(\n",
      "/home/jrhin/Uni/sl/slenv/lib/python3.10/site-packages/sklearn/linear_model/_logistic.py:444: ConvergenceWarning: lbfgs failed to converge (status=1):\n",
      "STOP: TOTAL NO. of ITERATIONS REACHED LIMIT.\n",
      "\n",
      "Increase the number of iterations (max_iter) or scale the data as shown in:\n",
      "    https://scikit-learn.org/stable/modules/preprocessing.html\n",
      "Please also refer to the documentation for alternative solver options:\n",
      "    https://scikit-learn.org/stable/modules/linear_model.html#logistic-regression\n",
      "  n_iter_i = _check_optimize_result(\n",
      "/home/jrhin/Uni/sl/slenv/lib/python3.10/site-packages/sklearn/model_selection/_validation.py:378: FitFailedWarning: \n",
      "10 fits failed out of a total of 15.\n",
      "The score on these train-test partitions for these parameters will be set to nan.\n",
      "If these failures are not expected, you can try to debug them by setting error_score='raise'.\n",
      "\n",
      "Below are more details about the failures:\n",
      "--------------------------------------------------------------------------------\n",
      "5 fits failed with the following error:\n",
      "Traceback (most recent call last):\n",
      "  File \"/home/jrhin/Uni/sl/slenv/lib/python3.10/site-packages/sklearn/model_selection/_validation.py\", line 686, in _fit_and_score\n",
      "    estimator.fit(X_train, y_train, **fit_params)\n",
      "  File \"/home/jrhin/Uni/sl/slenv/lib/python3.10/site-packages/sklearn/pipeline.py\", line 382, in fit\n",
      "    self._final_estimator.fit(Xt, y, **fit_params_last_step)\n",
      "  File \"/home/jrhin/Uni/sl/slenv/lib/python3.10/site-packages/sklearn/linear_model/_logistic.py\", line 1091, in fit\n",
      "    solver = _check_solver(self.solver, self.penalty, self.dual)\n",
      "  File \"/home/jrhin/Uni/sl/slenv/lib/python3.10/site-packages/sklearn/linear_model/_logistic.py\", line 61, in _check_solver\n",
      "    raise ValueError(\n",
      "ValueError: Solver lbfgs supports only 'l2' or 'none' penalties, got elasticnet penalty.\n",
      "\n",
      "--------------------------------------------------------------------------------\n",
      "5 fits failed with the following error:\n",
      "Traceback (most recent call last):\n",
      "  File \"/home/jrhin/Uni/sl/slenv/lib/python3.10/site-packages/sklearn/model_selection/_validation.py\", line 686, in _fit_and_score\n",
      "    estimator.fit(X_train, y_train, **fit_params)\n",
      "  File \"/home/jrhin/Uni/sl/slenv/lib/python3.10/site-packages/sklearn/pipeline.py\", line 382, in fit\n",
      "    self._final_estimator.fit(Xt, y, **fit_params_last_step)\n",
      "  File \"/home/jrhin/Uni/sl/slenv/lib/python3.10/site-packages/sklearn/linear_model/_logistic.py\", line 1091, in fit\n",
      "    solver = _check_solver(self.solver, self.penalty, self.dual)\n",
      "  File \"/home/jrhin/Uni/sl/slenv/lib/python3.10/site-packages/sklearn/linear_model/_logistic.py\", line 61, in _check_solver\n",
      "    raise ValueError(\n",
      "ValueError: Solver lbfgs supports only 'l2' or 'none' penalties, got l1 penalty.\n",
      "\n",
      "  warnings.warn(some_fits_failed_message, FitFailedWarning)\n",
      "/home/jrhin/Uni/sl/slenv/lib/python3.10/site-packages/sklearn/model_selection/_search.py:953: UserWarning: One or more of the test scores are non-finite: [       nan        nan        nan 0.74500768        nan        nan\n",
      " 0.87390476 0.50189474 0.56575496        nan 0.75474507        nan\n",
      "        nan        nan        nan]\n",
      "  warnings.warn(\n"
     ]
    },
    {
     "data": {
      "text/html": [
       "<style>#sk-container-id-1 {color: black;background-color: white;}#sk-container-id-1 pre{padding: 0;}#sk-container-id-1 div.sk-toggleable {background-color: white;}#sk-container-id-1 label.sk-toggleable__label {cursor: pointer;display: block;width: 100%;margin-bottom: 0;padding: 0.3em;box-sizing: border-box;text-align: center;}#sk-container-id-1 label.sk-toggleable__label-arrow:before {content: \"▸\";float: left;margin-right: 0.25em;color: #696969;}#sk-container-id-1 label.sk-toggleable__label-arrow:hover:before {color: black;}#sk-container-id-1 div.sk-estimator:hover label.sk-toggleable__label-arrow:before {color: black;}#sk-container-id-1 div.sk-toggleable__content {max-height: 0;max-width: 0;overflow: hidden;text-align: left;background-color: #f0f8ff;}#sk-container-id-1 div.sk-toggleable__content pre {margin: 0.2em;color: black;border-radius: 0.25em;background-color: #f0f8ff;}#sk-container-id-1 input.sk-toggleable__control:checked~div.sk-toggleable__content {max-height: 200px;max-width: 100%;overflow: auto;}#sk-container-id-1 input.sk-toggleable__control:checked~label.sk-toggleable__label-arrow:before {content: \"▾\";}#sk-container-id-1 div.sk-estimator input.sk-toggleable__control:checked~label.sk-toggleable__label {background-color: #d4ebff;}#sk-container-id-1 div.sk-label input.sk-toggleable__control:checked~label.sk-toggleable__label {background-color: #d4ebff;}#sk-container-id-1 input.sk-hidden--visually {border: 0;clip: rect(1px 1px 1px 1px);clip: rect(1px, 1px, 1px, 1px);height: 1px;margin: -1px;overflow: hidden;padding: 0;position: absolute;width: 1px;}#sk-container-id-1 div.sk-estimator {font-family: monospace;background-color: #f0f8ff;border: 1px dotted black;border-radius: 0.25em;box-sizing: border-box;margin-bottom: 0.5em;}#sk-container-id-1 div.sk-estimator:hover {background-color: #d4ebff;}#sk-container-id-1 div.sk-parallel-item::after {content: \"\";width: 100%;border-bottom: 1px solid gray;flex-grow: 1;}#sk-container-id-1 div.sk-label:hover label.sk-toggleable__label {background-color: #d4ebff;}#sk-container-id-1 div.sk-serial::before {content: \"\";position: absolute;border-left: 1px solid gray;box-sizing: border-box;top: 0;bottom: 0;left: 50%;z-index: 0;}#sk-container-id-1 div.sk-serial {display: flex;flex-direction: column;align-items: center;background-color: white;padding-right: 0.2em;padding-left: 0.2em;position: relative;}#sk-container-id-1 div.sk-item {position: relative;z-index: 1;}#sk-container-id-1 div.sk-parallel {display: flex;align-items: stretch;justify-content: center;background-color: white;position: relative;}#sk-container-id-1 div.sk-item::before, #sk-container-id-1 div.sk-parallel-item::before {content: \"\";position: absolute;border-left: 1px solid gray;box-sizing: border-box;top: 0;bottom: 0;left: 50%;z-index: -1;}#sk-container-id-1 div.sk-parallel-item {display: flex;flex-direction: column;z-index: 1;position: relative;background-color: white;}#sk-container-id-1 div.sk-parallel-item:first-child::after {align-self: flex-end;width: 50%;}#sk-container-id-1 div.sk-parallel-item:last-child::after {align-self: flex-start;width: 50%;}#sk-container-id-1 div.sk-parallel-item:only-child::after {width: 0;}#sk-container-id-1 div.sk-dashed-wrapped {border: 1px dashed gray;margin: 0 0.4em 0.5em 0.4em;box-sizing: border-box;padding-bottom: 0.4em;background-color: white;}#sk-container-id-1 div.sk-label label {font-family: monospace;font-weight: bold;display: inline-block;line-height: 1.2em;}#sk-container-id-1 div.sk-label-container {text-align: center;}#sk-container-id-1 div.sk-container {/* jupyter's `normalize.less` sets `[hidden] { display: none; }` but bootstrap.min.css set `[hidden] { display: none !important; }` so we also need the `!important` here to be able to override the default hidden behavior on the sphinx rendered scikit-learn.org. See: https://github.com/scikit-learn/scikit-learn/issues/21755 */display: inline-block !important;position: relative;}#sk-container-id-1 div.sk-text-repr-fallback {display: none;}</style><div id=\"sk-container-id-1\" class=\"sk-top-container\"><div class=\"sk-text-repr-fallback\"><pre>RandomizedSearchCV(cv=PredefinedSplit(test_fold=array([-1, -1, ...,  0, -1])),\n",
       "                   estimator=Pipeline(steps=[(&#x27;vect&#x27;,\n",
       "                                              TfidfVectorizer(strip_accents=&#x27;ascii&#x27;)),\n",
       "                                             (&#x27;GBC&#x27;,\n",
       "                                              GradientBoostingClassifier(random_state=42))]),\n",
       "                   n_iter=15,\n",
       "                   param_distributions={&#x27;GBC__learning_rate&#x27;: [0.1, 0.01,\n",
       "                                                               0.001],\n",
       "                                        &#x27;GBC__loss&#x27;: [&#x27;log_loss&#x27;,\n",
       "                                                      &#x27;exponential&#x27;],\n",
       "                                        &#x27;vect__min_df&#x27;: [0.0, 0.1, 0.2],\n",
       "                                        &#x27;vect__ngram_range&#x27;: [(1, 1), (1, 2),\n",
       "                                                              (1, 3)],\n",
       "                                        &#x27;vect__tokenizer&#x27;: [None,\n",
       "                                                            &lt;function stemming_tokenizer at 0x7fc085981d80&gt;,\n",
       "                                                            &lt;function stemming_stop_tokenizer at 0x7fc085981ea0&gt;]},\n",
       "                   random_state=42, scoring=&#x27;f1&#x27;, verbose=-1)</pre><b>In a Jupyter environment, please rerun this cell to show the HTML representation or trust the notebook. <br />On GitHub, the HTML representation is unable to render, please try loading this page with nbviewer.org.</b></div><div class=\"sk-container\" hidden><div class=\"sk-item sk-dashed-wrapped\"><div class=\"sk-label-container\"><div class=\"sk-label sk-toggleable\"><input class=\"sk-toggleable__control sk-hidden--visually\" id=\"sk-estimator-id-1\" type=\"checkbox\" ><label for=\"sk-estimator-id-1\" class=\"sk-toggleable__label sk-toggleable__label-arrow\">RandomizedSearchCV</label><div class=\"sk-toggleable__content\"><pre>RandomizedSearchCV(cv=PredefinedSplit(test_fold=array([-1, -1, ...,  0, -1])),\n",
       "                   estimator=Pipeline(steps=[(&#x27;vect&#x27;,\n",
       "                                              TfidfVectorizer(strip_accents=&#x27;ascii&#x27;)),\n",
       "                                             (&#x27;GBC&#x27;,\n",
       "                                              GradientBoostingClassifier(random_state=42))]),\n",
       "                   n_iter=15,\n",
       "                   param_distributions={&#x27;GBC__learning_rate&#x27;: [0.1, 0.01,\n",
       "                                                               0.001],\n",
       "                                        &#x27;GBC__loss&#x27;: [&#x27;log_loss&#x27;,\n",
       "                                                      &#x27;exponential&#x27;],\n",
       "                                        &#x27;vect__min_df&#x27;: [0.0, 0.1, 0.2],\n",
       "                                        &#x27;vect__ngram_range&#x27;: [(1, 1), (1, 2),\n",
       "                                                              (1, 3)],\n",
       "                                        &#x27;vect__tokenizer&#x27;: [None,\n",
       "                                                            &lt;function stemming_tokenizer at 0x7fc085981d80&gt;,\n",
       "                                                            &lt;function stemming_stop_tokenizer at 0x7fc085981ea0&gt;]},\n",
       "                   random_state=42, scoring=&#x27;f1&#x27;, verbose=-1)</pre></div></div></div><div class=\"sk-parallel\"><div class=\"sk-parallel-item\"><div class=\"sk-item\"><div class=\"sk-label-container\"><div class=\"sk-label sk-toggleable\"><input class=\"sk-toggleable__control sk-hidden--visually\" id=\"sk-estimator-id-2\" type=\"checkbox\" ><label for=\"sk-estimator-id-2\" class=\"sk-toggleable__label sk-toggleable__label-arrow\">estimator: Pipeline</label><div class=\"sk-toggleable__content\"><pre>Pipeline(steps=[(&#x27;vect&#x27;, TfidfVectorizer(strip_accents=&#x27;ascii&#x27;)),\n",
       "                (&#x27;GBC&#x27;, GradientBoostingClassifier(random_state=42))])</pre></div></div></div><div class=\"sk-serial\"><div class=\"sk-item\"><div class=\"sk-serial\"><div class=\"sk-item\"><div class=\"sk-estimator sk-toggleable\"><input class=\"sk-toggleable__control sk-hidden--visually\" id=\"sk-estimator-id-3\" type=\"checkbox\" ><label for=\"sk-estimator-id-3\" class=\"sk-toggleable__label sk-toggleable__label-arrow\">TfidfVectorizer</label><div class=\"sk-toggleable__content\"><pre>TfidfVectorizer(strip_accents=&#x27;ascii&#x27;)</pre></div></div></div><div class=\"sk-item\"><div class=\"sk-estimator sk-toggleable\"><input class=\"sk-toggleable__control sk-hidden--visually\" id=\"sk-estimator-id-4\" type=\"checkbox\" ><label for=\"sk-estimator-id-4\" class=\"sk-toggleable__label sk-toggleable__label-arrow\">GradientBoostingClassifier</label><div class=\"sk-toggleable__content\"><pre>GradientBoostingClassifier(random_state=42)</pre></div></div></div></div></div></div></div></div></div></div></div></div>"
      ],
      "text/plain": [
       "RandomizedSearchCV(cv=PredefinedSplit(test_fold=array([-1, -1, ...,  0, -1])),\n",
       "                   estimator=Pipeline(steps=[('vect',\n",
       "                                              TfidfVectorizer(strip_accents='ascii')),\n",
       "                                             ('GBC',\n",
       "                                              GradientBoostingClassifier(random_state=42))]),\n",
       "                   n_iter=15,\n",
       "                   param_distributions={'GBC__learning_rate': [0.1, 0.01,\n",
       "                                                               0.001],\n",
       "                                        'GBC__loss': ['log_loss',\n",
       "                                                      'exponential'],\n",
       "                                        'vect__min_df': [0.0, 0.1, 0.2],\n",
       "                                        'vect__ngram_range': [(1, 1), (1, 2),\n",
       "                                                              (1, 3)],\n",
       "                                        'vect__tokenizer': [None,\n",
       "                                                            <function stemming_tokenizer at 0x7fc085981d80>,\n",
       "                                                            <function stemming_stop_tokenizer at 0x7fc085981ea0>]},\n",
       "                   random_state=42, scoring='f1', verbose=-1)"
      ]
     },
     "execution_count": 7,
     "metadata": {},
     "output_type": "execute_result"
    }
   ],
   "source": [
    "grid_search = {} \n",
    "\n",
    "# make pipeline for MNB\n",
    "pipeline= Pipeline([\n",
    "\t('vect', vectorizer),\n",
    "\t('MNB', MNB),\n",
    "\t])\n",
    "\n",
    "parameters = {**conf, **MNB_param} #union of the dicts\n",
    "\n",
    "grid_search['MNB'] = RandomizedSearchCV(pipeline, parameters, scoring = 'f1',\n",
    "                                     cv = ps, n_iter = 15, verbose = -1, random_state = 42)\n",
    "\n",
    "grid_search['MNB'].fit(X_train, Y_train)\n",
    "\n",
    "\n",
    "# make pipeline for KNN\n",
    "pipeline = Pipeline([\n",
    "\t('vect', vectorizer),\n",
    "\t('KNN', KNN),\n",
    "\t])\n",
    "\n",
    "parameters = {**conf, **KNN_param}\n",
    "\n",
    "grid_search['KNN'] = RandomizedSearchCV(pipeline, parameters,  scoring = 'f1',\n",
    "                                     cv = ps, n_iter = 15, verbose = -1, random_state = 42)\n",
    "\n",
    "grid_search['KNN'].fit(X_train, Y_train)\n",
    "\n",
    "# make pipeline for SVM\n",
    "pipeline = Pipeline([\n",
    "\t('vect', vectorizer),\n",
    "\t('SVM', SVM),\n",
    "\t])\n",
    "\n",
    "parameters = {**conf, **SVM_param}\n",
    "\n",
    "grid_search['SVM'] = RandomizedSearchCV(pipeline, parameters,  scoring = 'f1',\n",
    "                                     cv = ps, n_iter = 15, verbose = -1, random_state = 42)\n",
    "\n",
    "grid_search['SVM'].fit(X_train, Y_train)\n",
    "\n",
    "\n",
    "# make pipeline for DT\n",
    "pipeline = Pipeline([\n",
    "\t('vect', vectorizer),\n",
    "\t('DT', DT),\n",
    "\t])\n",
    "\n",
    "parameters = {**conf, **DT_param}\n",
    "\n",
    "grid_search['DT'] = RandomizedSearchCV(pipeline, parameters,  scoring = 'f1',\n",
    "                                     cv = ps, n_iter = 15, verbose = -1, random_state = 42)\n",
    "\n",
    "grid_search['DT'].fit(X_train, Y_train)\n",
    "\n",
    "# make pipeline for RF\n",
    "pipeline = Pipeline([\n",
    "\t('vect', vectorizer),\n",
    "\t('RF', RF),\n",
    "\t])\n",
    "\n",
    "parameters = {**conf, **RF_param}\n",
    "\n",
    "grid_search['RF'] = RandomizedSearchCV(pipeline, parameters,  scoring = 'f1',\n",
    "                                     cv = ps, n_iter = 15, verbose = -1, random_state = 42)\n",
    "\n",
    "grid_search['RF'].fit(X_train, Y_train)\n",
    "\n",
    "# make pipeline for LR\n",
    "pipeline= Pipeline([\n",
    "\t('vect', vectorizer),\n",
    "\t('LR', LR),\n",
    "\t])\n",
    "\n",
    "parameters = {**conf, **LR_param} #union of the dicts\n",
    "\n",
    "grid_search['LR'] = RandomizedSearchCV(pipeline, parameters, scoring = 'f1',\n",
    "                                     cv = ps, n_iter = 15, verbose = -1, random_state = 42)\n",
    "\n",
    "grid_search['LR'].fit(X_train, Y_train)\n",
    "\n",
    "# make pipeline for GBC\n",
    "pipeline= Pipeline([\n",
    "\t('vect', vectorizer),\n",
    "\t('GBC', GBC),\n",
    "\t])\n",
    "\n",
    "parameters = {**conf, **GBC_param} #union of the dicts\n",
    "\n",
    "grid_search['GBC'] = RandomizedSearchCV(pipeline, parameters, scoring = 'f1',\n",
    "                                     cv = ps, n_iter = 15, verbose = -1, random_state = 42)\n",
    "\n",
    "grid_search['GBC'].fit(X_train, Y_train)"
   ]
  },
  {
   "cell_type": "markdown",
   "id": "7d87c183",
   "metadata": {
    "id": "7d87c183"
   },
   "source": [
    "## Plotting the results\n",
    "Here, we show the best results of each classifier that is obtained from the grid serach using the best parameters, and by looking at the result we can see that the SVM classifier performed better than the other classifier by acheiving the highest f1 score (90%). It means the SVM model classified 90% of test data correctly. "
   ]
  },
  {
   "cell_type": "code",
   "execution_count": 8,
   "id": "1099c5c1",
   "metadata": {
    "id": "1099c5c1",
    "outputId": "acb1b2d4-0958-4d47-c7aa-5b0ccf0ed297"
   },
   "outputs": [
    {
     "name": "stdout",
     "output_type": "stream",
     "text": [
      "Scores MNB:\n",
      "               precision    recall  f1-score   support\n",
      "\n",
      "Non offensive       0.84      0.80      0.82      1361\n",
      "    Offensive       0.80      0.84      0.82      1300\n",
      "\n",
      "     accuracy                           0.82      2661\n",
      "    macro avg       0.82      0.82      0.82      2661\n",
      " weighted avg       0.82      0.82      0.82      2661\n",
      "\n",
      "\n",
      "Confusion Matrix MNB:\n"
     ]
    },
    {
     "data": {
      "text/html": [
       "<div>\n",
       "<style scoped>\n",
       "    .dataframe tbody tr th:only-of-type {\n",
       "        vertical-align: middle;\n",
       "    }\n",
       "\n",
       "    .dataframe tbody tr th {\n",
       "        vertical-align: top;\n",
       "    }\n",
       "\n",
       "    .dataframe thead th {\n",
       "        text-align: right;\n",
       "    }\n",
       "</style>\n",
       "<table border=\"1\" class=\"dataframe\">\n",
       "  <thead>\n",
       "    <tr style=\"text-align: right;\">\n",
       "      <th></th>\n",
       "      <th>0</th>\n",
       "      <th>1</th>\n",
       "    </tr>\n",
       "  </thead>\n",
       "  <tbody>\n",
       "    <tr>\n",
       "      <th>0</th>\n",
       "      <td>1092</td>\n",
       "      <td>269</td>\n",
       "    </tr>\n",
       "    <tr>\n",
       "      <th>1</th>\n",
       "      <td>212</td>\n",
       "      <td>1088</td>\n",
       "    </tr>\n",
       "  </tbody>\n",
       "</table>\n",
       "</div>"
      ],
      "text/plain": [
       "      0     1\n",
       "0  1092   269\n",
       "1   212  1088"
      ]
     },
     "metadata": {},
     "output_type": "display_data"
    },
    {
     "name": "stdout",
     "output_type": "stream",
     "text": [
      "\n",
      "\n",
      "\n",
      "Scores KNN:\n",
      "               precision    recall  f1-score   support\n",
      "\n",
      "Non offensive       0.80      0.74      0.77      1361\n",
      "    Offensive       0.75      0.80      0.77      1300\n",
      "\n",
      "     accuracy                           0.77      2661\n",
      "    macro avg       0.77      0.77      0.77      2661\n",
      " weighted avg       0.77      0.77      0.77      2661\n",
      "\n",
      "\n",
      "Confusion Matrix KNN:\n"
     ]
    },
    {
     "data": {
      "text/html": [
       "<div>\n",
       "<style scoped>\n",
       "    .dataframe tbody tr th:only-of-type {\n",
       "        vertical-align: middle;\n",
       "    }\n",
       "\n",
       "    .dataframe tbody tr th {\n",
       "        vertical-align: top;\n",
       "    }\n",
       "\n",
       "    .dataframe thead th {\n",
       "        text-align: right;\n",
       "    }\n",
       "</style>\n",
       "<table border=\"1\" class=\"dataframe\">\n",
       "  <thead>\n",
       "    <tr style=\"text-align: right;\">\n",
       "      <th></th>\n",
       "      <th>0</th>\n",
       "      <th>1</th>\n",
       "    </tr>\n",
       "  </thead>\n",
       "  <tbody>\n",
       "    <tr>\n",
       "      <th>0</th>\n",
       "      <td>1004</td>\n",
       "      <td>357</td>\n",
       "    </tr>\n",
       "    <tr>\n",
       "      <th>1</th>\n",
       "      <td>256</td>\n",
       "      <td>1044</td>\n",
       "    </tr>\n",
       "  </tbody>\n",
       "</table>\n",
       "</div>"
      ],
      "text/plain": [
       "      0     1\n",
       "0  1004   357\n",
       "1   256  1044"
      ]
     },
     "metadata": {},
     "output_type": "display_data"
    },
    {
     "name": "stdout",
     "output_type": "stream",
     "text": [
      "\n",
      "\n",
      "\n",
      "Scores SVM:\n",
      "               precision    recall  f1-score   support\n",
      "\n",
      "Non offensive       0.91      0.89      0.90      1361\n",
      "    Offensive       0.89      0.91      0.90      1300\n",
      "\n",
      "     accuracy                           0.90      2661\n",
      "    macro avg       0.90      0.90      0.90      2661\n",
      " weighted avg       0.90      0.90      0.90      2661\n",
      "\n",
      "\n",
      "Confusion Matrix SVM:\n"
     ]
    },
    {
     "data": {
      "text/html": [
       "<div>\n",
       "<style scoped>\n",
       "    .dataframe tbody tr th:only-of-type {\n",
       "        vertical-align: middle;\n",
       "    }\n",
       "\n",
       "    .dataframe tbody tr th {\n",
       "        vertical-align: top;\n",
       "    }\n",
       "\n",
       "    .dataframe thead th {\n",
       "        text-align: right;\n",
       "    }\n",
       "</style>\n",
       "<table border=\"1\" class=\"dataframe\">\n",
       "  <thead>\n",
       "    <tr style=\"text-align: right;\">\n",
       "      <th></th>\n",
       "      <th>0</th>\n",
       "      <th>1</th>\n",
       "    </tr>\n",
       "  </thead>\n",
       "  <tbody>\n",
       "    <tr>\n",
       "      <th>0</th>\n",
       "      <td>1210</td>\n",
       "      <td>151</td>\n",
       "    </tr>\n",
       "    <tr>\n",
       "      <th>1</th>\n",
       "      <td>115</td>\n",
       "      <td>1185</td>\n",
       "    </tr>\n",
       "  </tbody>\n",
       "</table>\n",
       "</div>"
      ],
      "text/plain": [
       "      0     1\n",
       "0  1210   151\n",
       "1   115  1185"
      ]
     },
     "metadata": {},
     "output_type": "display_data"
    },
    {
     "name": "stdout",
     "output_type": "stream",
     "text": [
      "\n",
      "\n",
      "\n",
      "Scores DT:\n",
      "               precision    recall  f1-score   support\n",
      "\n",
      "Non offensive       0.89      0.87      0.88      1361\n",
      "    Offensive       0.87      0.89      0.88      1300\n",
      "\n",
      "     accuracy                           0.88      2661\n",
      "    macro avg       0.88      0.88      0.88      2661\n",
      " weighted avg       0.88      0.88      0.88      2661\n",
      "\n",
      "\n",
      "Confusion Matrix DT:\n"
     ]
    },
    {
     "data": {
      "text/html": [
       "<div>\n",
       "<style scoped>\n",
       "    .dataframe tbody tr th:only-of-type {\n",
       "        vertical-align: middle;\n",
       "    }\n",
       "\n",
       "    .dataframe tbody tr th {\n",
       "        vertical-align: top;\n",
       "    }\n",
       "\n",
       "    .dataframe thead th {\n",
       "        text-align: right;\n",
       "    }\n",
       "</style>\n",
       "<table border=\"1\" class=\"dataframe\">\n",
       "  <thead>\n",
       "    <tr style=\"text-align: right;\">\n",
       "      <th></th>\n",
       "      <th>0</th>\n",
       "      <th>1</th>\n",
       "    </tr>\n",
       "  </thead>\n",
       "  <tbody>\n",
       "    <tr>\n",
       "      <th>0</th>\n",
       "      <td>1186</td>\n",
       "      <td>175</td>\n",
       "    </tr>\n",
       "    <tr>\n",
       "      <th>1</th>\n",
       "      <td>147</td>\n",
       "      <td>1153</td>\n",
       "    </tr>\n",
       "  </tbody>\n",
       "</table>\n",
       "</div>"
      ],
      "text/plain": [
       "      0     1\n",
       "0  1186   175\n",
       "1   147  1153"
      ]
     },
     "metadata": {},
     "output_type": "display_data"
    },
    {
     "name": "stdout",
     "output_type": "stream",
     "text": [
      "\n",
      "\n",
      "\n",
      "Scores RF:\n",
      "               precision    recall  f1-score   support\n",
      "\n",
      "Non offensive       0.88      0.90      0.89      1361\n",
      "    Offensive       0.89      0.87      0.88      1300\n",
      "\n",
      "     accuracy                           0.88      2661\n",
      "    macro avg       0.88      0.88      0.88      2661\n",
      " weighted avg       0.88      0.88      0.88      2661\n",
      "\n",
      "\n",
      "Confusion Matrix RF:\n"
     ]
    },
    {
     "data": {
      "text/html": [
       "<div>\n",
       "<style scoped>\n",
       "    .dataframe tbody tr th:only-of-type {\n",
       "        vertical-align: middle;\n",
       "    }\n",
       "\n",
       "    .dataframe tbody tr th {\n",
       "        vertical-align: top;\n",
       "    }\n",
       "\n",
       "    .dataframe thead th {\n",
       "        text-align: right;\n",
       "    }\n",
       "</style>\n",
       "<table border=\"1\" class=\"dataframe\">\n",
       "  <thead>\n",
       "    <tr style=\"text-align: right;\">\n",
       "      <th></th>\n",
       "      <th>0</th>\n",
       "      <th>1</th>\n",
       "    </tr>\n",
       "  </thead>\n",
       "  <tbody>\n",
       "    <tr>\n",
       "      <th>0</th>\n",
       "      <td>1221</td>\n",
       "      <td>140</td>\n",
       "    </tr>\n",
       "    <tr>\n",
       "      <th>1</th>\n",
       "      <td>170</td>\n",
       "      <td>1130</td>\n",
       "    </tr>\n",
       "  </tbody>\n",
       "</table>\n",
       "</div>"
      ],
      "text/plain": [
       "      0     1\n",
       "0  1221   140\n",
       "1   170  1130"
      ]
     },
     "metadata": {},
     "output_type": "display_data"
    },
    {
     "name": "stdout",
     "output_type": "stream",
     "text": [
      "\n",
      "\n",
      "\n",
      "Scores LR:\n",
      "               precision    recall  f1-score   support\n",
      "\n",
      "Non offensive       0.88      0.89      0.89      1361\n",
      "    Offensive       0.89      0.87      0.88      1300\n",
      "\n",
      "     accuracy                           0.88      2661\n",
      "    macro avg       0.88      0.88      0.88      2661\n",
      " weighted avg       0.88      0.88      0.88      2661\n",
      "\n",
      "\n",
      "Confusion Matrix LR:\n"
     ]
    },
    {
     "data": {
      "text/html": [
       "<div>\n",
       "<style scoped>\n",
       "    .dataframe tbody tr th:only-of-type {\n",
       "        vertical-align: middle;\n",
       "    }\n",
       "\n",
       "    .dataframe tbody tr th {\n",
       "        vertical-align: top;\n",
       "    }\n",
       "\n",
       "    .dataframe thead th {\n",
       "        text-align: right;\n",
       "    }\n",
       "</style>\n",
       "<table border=\"1\" class=\"dataframe\">\n",
       "  <thead>\n",
       "    <tr style=\"text-align: right;\">\n",
       "      <th></th>\n",
       "      <th>0</th>\n",
       "      <th>1</th>\n",
       "    </tr>\n",
       "  </thead>\n",
       "  <tbody>\n",
       "    <tr>\n",
       "      <th>0</th>\n",
       "      <td>1214</td>\n",
       "      <td>147</td>\n",
       "    </tr>\n",
       "    <tr>\n",
       "      <th>1</th>\n",
       "      <td>164</td>\n",
       "      <td>1136</td>\n",
       "    </tr>\n",
       "  </tbody>\n",
       "</table>\n",
       "</div>"
      ],
      "text/plain": [
       "      0     1\n",
       "0  1214   147\n",
       "1   164  1136"
      ]
     },
     "metadata": {},
     "output_type": "display_data"
    },
    {
     "name": "stdout",
     "output_type": "stream",
     "text": [
      "\n",
      "\n",
      "\n",
      "Scores GBC:\n",
      "               precision    recall  f1-score   support\n",
      "\n",
      "Non offensive       0.88      0.89      0.88      1361\n",
      "    Offensive       0.88      0.88      0.88      1300\n",
      "\n",
      "     accuracy                           0.88      2661\n",
      "    macro avg       0.88      0.88      0.88      2661\n",
      " weighted avg       0.88      0.88      0.88      2661\n",
      "\n",
      "\n",
      "Confusion Matrix GBC:\n"
     ]
    },
    {
     "data": {
      "text/html": [
       "<div>\n",
       "<style scoped>\n",
       "    .dataframe tbody tr th:only-of-type {\n",
       "        vertical-align: middle;\n",
       "    }\n",
       "\n",
       "    .dataframe tbody tr th {\n",
       "        vertical-align: top;\n",
       "    }\n",
       "\n",
       "    .dataframe thead th {\n",
       "        text-align: right;\n",
       "    }\n",
       "</style>\n",
       "<table border=\"1\" class=\"dataframe\">\n",
       "  <thead>\n",
       "    <tr style=\"text-align: right;\">\n",
       "      <th></th>\n",
       "      <th>0</th>\n",
       "      <th>1</th>\n",
       "    </tr>\n",
       "  </thead>\n",
       "  <tbody>\n",
       "    <tr>\n",
       "      <th>0</th>\n",
       "      <td>1205</td>\n",
       "      <td>156</td>\n",
       "    </tr>\n",
       "    <tr>\n",
       "      <th>1</th>\n",
       "      <td>160</td>\n",
       "      <td>1140</td>\n",
       "    </tr>\n",
       "  </tbody>\n",
       "</table>\n",
       "</div>"
      ],
      "text/plain": [
       "      0     1\n",
       "0  1205   156\n",
       "1   160  1140"
      ]
     },
     "metadata": {},
     "output_type": "display_data"
    },
    {
     "name": "stdout",
     "output_type": "stream",
     "text": [
      "\n",
      "\n",
      "\n"
     ]
    }
   ],
   "source": [
    "for classifier in grid_search:\n",
    "    pred = grid_search[classifier].predict(x_test)\n",
    "    print(\"Scores\", classifier+\":\")\n",
    "    print(metrics.classification_report(y_test, pred, target_names = [\"Non offensive\", \"Offensive\"]))\n",
    "    print()\n",
    "    print(\"Confusion Matrix\", classifier+\":\")\n",
    "    display(pd.DataFrame(metrics.confusion_matrix(y_test, pred)))\n",
    "    print()\n",
    "    print()\n",
    "    print()"
   ]
  },
  {
   "cell_type": "markdown",
   "id": "a750fba5",
   "metadata": {
    "id": "a750fba5"
   },
   "source": [
    "# Transformers encoding"
   ]
  },
  {
   "cell_type": "markdown",
   "id": "627185a3",
   "metadata": {
    "id": "627185a3"
   },
   "source": [
    "## Downloading *all-distilroberta-v1* and perform a grid search for each classifier\n",
    "\n",
    "Here, we have used a specific kind of encoding method called `transformers encoding` (or `positional encoding`). In this method, the information regarding the position of an object in a series is maintained, and since the position of a word can affect the meaning of the sentence, by using this encoding method we can retain and use this valuable information. The positional encoding assign each position or index to a vector so the output of this encoding is a matrix. This method is applied using `sentences_transformer` library and the resulted data is a matrix with 768 dimensions, which is hard to be processed. Therefore, a PCA algorith is used to reduced these dimensions, then the compressed data is used to train our clasifiers by applying a grid search to find the best combination of parameters with the highest `f1 score`.       "
   ]
  },
  {
   "cell_type": "code",
   "execution_count": 9,
   "id": "2f9d38a5",
   "metadata": {
    "id": "2f9d38a5",
    "outputId": "6c27b514-1001-4ba6-d8a5-52c29b2f73a0"
   },
   "outputs": [
    {
     "name": "stdout",
     "output_type": "stream",
     "text": [
      "Number of components of the pca: 384\n"
     ]
    },
    {
     "name": "stderr",
     "output_type": "stream",
     "text": [
      "/home/jrhin/Uni/sl/slenv/lib/python3.10/site-packages/sklearn/model_selection/_validation.py:378: FitFailedWarning: \n",
      "2 fits failed out of a total of 4.\n",
      "The score on these train-test partitions for these parameters will be set to nan.\n",
      "If these failures are not expected, you can try to debug them by setting error_score='raise'.\n",
      "\n",
      "Below are more details about the failures:\n",
      "--------------------------------------------------------------------------------\n",
      "1 fits failed with the following error:\n",
      "Traceback (most recent call last):\n",
      "  File \"/home/jrhin/Uni/sl/slenv/lib/python3.10/site-packages/sklearn/model_selection/_validation.py\", line 686, in _fit_and_score\n",
      "    estimator.fit(X_train, y_train, **fit_params)\n",
      "  File \"/home/jrhin/Uni/sl/slenv/lib/python3.10/site-packages/sklearn/linear_model/_logistic.py\", line 1091, in fit\n",
      "    solver = _check_solver(self.solver, self.penalty, self.dual)\n",
      "  File \"/home/jrhin/Uni/sl/slenv/lib/python3.10/site-packages/sklearn/linear_model/_logistic.py\", line 61, in _check_solver\n",
      "    raise ValueError(\n",
      "ValueError: Solver lbfgs supports only 'l2' or 'none' penalties, got l1 penalty.\n",
      "\n",
      "--------------------------------------------------------------------------------\n",
      "1 fits failed with the following error:\n",
      "Traceback (most recent call last):\n",
      "  File \"/home/jrhin/Uni/sl/slenv/lib/python3.10/site-packages/sklearn/model_selection/_validation.py\", line 686, in _fit_and_score\n",
      "    estimator.fit(X_train, y_train, **fit_params)\n",
      "  File \"/home/jrhin/Uni/sl/slenv/lib/python3.10/site-packages/sklearn/linear_model/_logistic.py\", line 1091, in fit\n",
      "    solver = _check_solver(self.solver, self.penalty, self.dual)\n",
      "  File \"/home/jrhin/Uni/sl/slenv/lib/python3.10/site-packages/sklearn/linear_model/_logistic.py\", line 61, in _check_solver\n",
      "    raise ValueError(\n",
      "ValueError: Solver lbfgs supports only 'l2' or 'none' penalties, got elasticnet penalty.\n",
      "\n",
      "  warnings.warn(some_fits_failed_message, FitFailedWarning)\n",
      "/home/jrhin/Uni/sl/slenv/lib/python3.10/site-packages/sklearn/model_selection/_search.py:953: UserWarning: One or more of the test scores are non-finite: [       nan 0.82623705        nan 0.82122261]\n",
      "  warnings.warn(\n"
     ]
    }
   ],
   "source": [
    "MNB_param = {'alpha': [0.01, 0.1, 1.0]}    \n",
    "KNN_param = {'n_neighbors': [3, 5, 10]}\n",
    "SVM_param = {'kernel': ['poly', 'sigmoid']}\n",
    "DT_param = {'criterion': ['gini', 'entropy']}\n",
    "RF_param = {'criterion': ['gini', 'entropy']}\n",
    "LR_param = {'penalty': ['l1', 'l2', 'elasticnet', 'none']}\n",
    "GBC_param = {'loss': ['log_loss', 'exponential'], 'learning_rate': [0.1, 0.01, 0.001]}\n",
    "\n",
    "# We donwload a new pretrained model\n",
    "model = SentenceTransformer('all-distilroberta-v1')\n",
    "\n",
    "# We encode the sets\n",
    "embeddings_train = model.encode(list(X_train))\n",
    "embeddings_test = model.encode(list(x_test))\n",
    "\n",
    "# We run the PCA\n",
    "pca = PCA(0.95, random_state = 42)\n",
    "pca.fit(embeddings_train)\n",
    "print(\"Number of components of the pca:\", pca.n_components_)\n",
    "# We transfrom the data using the PCA\n",
    "embeddings_train = pca.transform(embeddings_train)\n",
    "embeddings_test = pca.transform(embeddings_test)\n",
    "\n",
    "# A dictionary with the classifiers\n",
    "classifiers = {'SVM': GridSearchCV(SVC(random_state = 42), SVM_param,  scoring = 'f1', cv = ps, verbose = -1),\n",
    "               'KNN': GridSearchCV(KNeighborsClassifier(), KNN_param,  scoring = 'f1', cv = ps, verbose = -1),\n",
    "               'DecisionTree': GridSearchCV(DecisionTreeClassifier(random_state = 42), DT_param,  scoring = 'f1', cv = ps, verbose = -1),\n",
    "               'RandomForest': GridSearchCV(RandomForestClassifier(random_state = 42), RF_param,  scoring = 'f1', cv = ps, verbose = -1),\n",
    "               'LogisticRegression': GridSearchCV(LogisticRegression(random_state = 42), LR_param,  scoring = 'f1', cv = ps, verbose = -1),\n",
    "               'GradientBoostingClassifier': GridSearchCV(GradientBoostingClassifier(random_state = 42), GBC_param,  scoring = 'f1', cv = ps, verbose = -1)\n",
    "               }\n",
    "\n",
    "best_clf = None\n",
    "best_f1 = 0\n",
    "current_f1 = 0\n",
    "\n",
    "for classifier in classifiers:\n",
    "    classifiers[classifier].fit(embeddings_train, Y_train)\n",
    "    current_f1 = classifiers[classifier].best_score_\n",
    "\n",
    "    if best_f1 < current_f1:\n",
    "        best_f1 = current_f1\n",
    "        best_clf = classifier"
   ]
  },
  {
   "cell_type": "markdown",
   "id": "0526ba28",
   "metadata": {
    "id": "0526ba28"
   },
   "source": [
    "## Print the results\n",
    "The results of classifiers trained by encoded data is shown bellow, and similar to the previous training, the Support Vector Machine classifier had a better performance with 90% `f1 score` comparing to the other classifiers. But, as we can see the model resulted in a better performance without `transformer encoding`, which is considered to be suprising due the fact that `positional encoding` is a powerful tool to retain valuable information."
   ]
  },
  {
   "cell_type": "code",
   "execution_count": 10,
   "id": "74a21e67",
   "metadata": {
    "id": "74a21e67",
    "outputId": "c6427299-4783-48b7-9e0d-8d8cbcf5697d",
    "scrolled": true
   },
   "outputs": [
    {
     "name": "stdout",
     "output_type": "stream",
     "text": [
      "Scores SVM:\n",
      "               precision    recall  f1-score   support\n",
      "\n",
      "Non offensive       0.88      0.85      0.86      1361\n",
      "    Offensive       0.85      0.88      0.86      1300\n",
      "\n",
      "     accuracy                           0.86      2661\n",
      "    macro avg       0.86      0.86      0.86      2661\n",
      " weighted avg       0.86      0.86      0.86      2661\n",
      "\n",
      "\n",
      "Confusion Matrix SVM:\n"
     ]
    },
    {
     "data": {
      "text/html": [
       "<div>\n",
       "<style scoped>\n",
       "    .dataframe tbody tr th:only-of-type {\n",
       "        vertical-align: middle;\n",
       "    }\n",
       "\n",
       "    .dataframe tbody tr th {\n",
       "        vertical-align: top;\n",
       "    }\n",
       "\n",
       "    .dataframe thead th {\n",
       "        text-align: right;\n",
       "    }\n",
       "</style>\n",
       "<table border=\"1\" class=\"dataframe\">\n",
       "  <thead>\n",
       "    <tr style=\"text-align: right;\">\n",
       "      <th></th>\n",
       "      <th>0</th>\n",
       "      <th>1</th>\n",
       "    </tr>\n",
       "  </thead>\n",
       "  <tbody>\n",
       "    <tr>\n",
       "      <th>0</th>\n",
       "      <td>1151</td>\n",
       "      <td>210</td>\n",
       "    </tr>\n",
       "    <tr>\n",
       "      <th>1</th>\n",
       "      <td>155</td>\n",
       "      <td>1145</td>\n",
       "    </tr>\n",
       "  </tbody>\n",
       "</table>\n",
       "</div>"
      ],
      "text/plain": [
       "      0     1\n",
       "0  1151   210\n",
       "1   155  1145"
      ]
     },
     "metadata": {},
     "output_type": "display_data"
    },
    {
     "name": "stdout",
     "output_type": "stream",
     "text": [
      "\n",
      "\n",
      "\n",
      "Scores KNN:\n",
      "               precision    recall  f1-score   support\n",
      "\n",
      "Non offensive       0.82      0.82      0.82      1361\n",
      "    Offensive       0.81      0.81      0.81      1300\n",
      "\n",
      "     accuracy                           0.81      2661\n",
      "    macro avg       0.81      0.81      0.81      2661\n",
      " weighted avg       0.81      0.81      0.81      2661\n",
      "\n",
      "\n",
      "Confusion Matrix KNN:\n"
     ]
    },
    {
     "data": {
      "text/html": [
       "<div>\n",
       "<style scoped>\n",
       "    .dataframe tbody tr th:only-of-type {\n",
       "        vertical-align: middle;\n",
       "    }\n",
       "\n",
       "    .dataframe tbody tr th {\n",
       "        vertical-align: top;\n",
       "    }\n",
       "\n",
       "    .dataframe thead th {\n",
       "        text-align: right;\n",
       "    }\n",
       "</style>\n",
       "<table border=\"1\" class=\"dataframe\">\n",
       "  <thead>\n",
       "    <tr style=\"text-align: right;\">\n",
       "      <th></th>\n",
       "      <th>0</th>\n",
       "      <th>1</th>\n",
       "    </tr>\n",
       "  </thead>\n",
       "  <tbody>\n",
       "    <tr>\n",
       "      <th>0</th>\n",
       "      <td>1112</td>\n",
       "      <td>249</td>\n",
       "    </tr>\n",
       "    <tr>\n",
       "      <th>1</th>\n",
       "      <td>245</td>\n",
       "      <td>1055</td>\n",
       "    </tr>\n",
       "  </tbody>\n",
       "</table>\n",
       "</div>"
      ],
      "text/plain": [
       "      0     1\n",
       "0  1112   249\n",
       "1   245  1055"
      ]
     },
     "metadata": {},
     "output_type": "display_data"
    },
    {
     "name": "stdout",
     "output_type": "stream",
     "text": [
      "\n",
      "\n",
      "\n",
      "Scores DecisionTree:\n",
      "               precision    recall  f1-score   support\n",
      "\n",
      "Non offensive       0.72      0.71      0.72      1361\n",
      "    Offensive       0.70      0.71      0.70      1300\n",
      "\n",
      "     accuracy                           0.71      2661\n",
      "    macro avg       0.71      0.71      0.71      2661\n",
      " weighted avg       0.71      0.71      0.71      2661\n",
      "\n",
      "\n",
      "Confusion Matrix DecisionTree:\n"
     ]
    },
    {
     "data": {
      "text/html": [
       "<div>\n",
       "<style scoped>\n",
       "    .dataframe tbody tr th:only-of-type {\n",
       "        vertical-align: middle;\n",
       "    }\n",
       "\n",
       "    .dataframe tbody tr th {\n",
       "        vertical-align: top;\n",
       "    }\n",
       "\n",
       "    .dataframe thead th {\n",
       "        text-align: right;\n",
       "    }\n",
       "</style>\n",
       "<table border=\"1\" class=\"dataframe\">\n",
       "  <thead>\n",
       "    <tr style=\"text-align: right;\">\n",
       "      <th></th>\n",
       "      <th>0</th>\n",
       "      <th>1</th>\n",
       "    </tr>\n",
       "  </thead>\n",
       "  <tbody>\n",
       "    <tr>\n",
       "      <th>0</th>\n",
       "      <td>973</td>\n",
       "      <td>388</td>\n",
       "    </tr>\n",
       "    <tr>\n",
       "      <th>1</th>\n",
       "      <td>383</td>\n",
       "      <td>917</td>\n",
       "    </tr>\n",
       "  </tbody>\n",
       "</table>\n",
       "</div>"
      ],
      "text/plain": [
       "     0    1\n",
       "0  973  388\n",
       "1  383  917"
      ]
     },
     "metadata": {},
     "output_type": "display_data"
    },
    {
     "name": "stdout",
     "output_type": "stream",
     "text": [
      "\n",
      "\n",
      "\n",
      "Scores RandomForest:\n",
      "               precision    recall  f1-score   support\n",
      "\n",
      "Non offensive       0.79      0.83      0.81      1361\n",
      "    Offensive       0.81      0.77      0.79      1300\n",
      "\n",
      "     accuracy                           0.80      2661\n",
      "    macro avg       0.80      0.80      0.80      2661\n",
      " weighted avg       0.80      0.80      0.80      2661\n",
      "\n",
      "\n",
      "Confusion Matrix RandomForest:\n"
     ]
    },
    {
     "data": {
      "text/html": [
       "<div>\n",
       "<style scoped>\n",
       "    .dataframe tbody tr th:only-of-type {\n",
       "        vertical-align: middle;\n",
       "    }\n",
       "\n",
       "    .dataframe tbody tr th {\n",
       "        vertical-align: top;\n",
       "    }\n",
       "\n",
       "    .dataframe thead th {\n",
       "        text-align: right;\n",
       "    }\n",
       "</style>\n",
       "<table border=\"1\" class=\"dataframe\">\n",
       "  <thead>\n",
       "    <tr style=\"text-align: right;\">\n",
       "      <th></th>\n",
       "      <th>0</th>\n",
       "      <th>1</th>\n",
       "    </tr>\n",
       "  </thead>\n",
       "  <tbody>\n",
       "    <tr>\n",
       "      <th>0</th>\n",
       "      <td>1123</td>\n",
       "      <td>238</td>\n",
       "    </tr>\n",
       "    <tr>\n",
       "      <th>1</th>\n",
       "      <td>298</td>\n",
       "      <td>1002</td>\n",
       "    </tr>\n",
       "  </tbody>\n",
       "</table>\n",
       "</div>"
      ],
      "text/plain": [
       "      0     1\n",
       "0  1123   238\n",
       "1   298  1002"
      ]
     },
     "metadata": {},
     "output_type": "display_data"
    },
    {
     "name": "stdout",
     "output_type": "stream",
     "text": [
      "\n",
      "\n",
      "\n",
      "Scores LogisticRegression:\n",
      "               precision    recall  f1-score   support\n",
      "\n",
      "Non offensive       0.85      0.85      0.85      1361\n",
      "    Offensive       0.84      0.84      0.84      1300\n",
      "\n",
      "     accuracy                           0.85      2661\n",
      "    macro avg       0.85      0.85      0.85      2661\n",
      " weighted avg       0.85      0.85      0.85      2661\n",
      "\n",
      "\n",
      "Confusion Matrix LogisticRegression:\n"
     ]
    },
    {
     "data": {
      "text/html": [
       "<div>\n",
       "<style scoped>\n",
       "    .dataframe tbody tr th:only-of-type {\n",
       "        vertical-align: middle;\n",
       "    }\n",
       "\n",
       "    .dataframe tbody tr th {\n",
       "        vertical-align: top;\n",
       "    }\n",
       "\n",
       "    .dataframe thead th {\n",
       "        text-align: right;\n",
       "    }\n",
       "</style>\n",
       "<table border=\"1\" class=\"dataframe\">\n",
       "  <thead>\n",
       "    <tr style=\"text-align: right;\">\n",
       "      <th></th>\n",
       "      <th>0</th>\n",
       "      <th>1</th>\n",
       "    </tr>\n",
       "  </thead>\n",
       "  <tbody>\n",
       "    <tr>\n",
       "      <th>0</th>\n",
       "      <td>1158</td>\n",
       "      <td>203</td>\n",
       "    </tr>\n",
       "    <tr>\n",
       "      <th>1</th>\n",
       "      <td>207</td>\n",
       "      <td>1093</td>\n",
       "    </tr>\n",
       "  </tbody>\n",
       "</table>\n",
       "</div>"
      ],
      "text/plain": [
       "      0     1\n",
       "0  1158   203\n",
       "1   207  1093"
      ]
     },
     "metadata": {},
     "output_type": "display_data"
    },
    {
     "name": "stdout",
     "output_type": "stream",
     "text": [
      "\n",
      "\n",
      "\n",
      "Scores GradientBoostingClassifier:\n",
      "               precision    recall  f1-score   support\n",
      "\n",
      "Non offensive       0.84      0.82      0.83      1361\n",
      "    Offensive       0.81      0.83      0.82      1300\n",
      "\n",
      "     accuracy                           0.82      2661\n",
      "    macro avg       0.82      0.83      0.82      2661\n",
      " weighted avg       0.83      0.82      0.82      2661\n",
      "\n",
      "\n",
      "Confusion Matrix GradientBoostingClassifier:\n"
     ]
    },
    {
     "data": {
      "text/html": [
       "<div>\n",
       "<style scoped>\n",
       "    .dataframe tbody tr th:only-of-type {\n",
       "        vertical-align: middle;\n",
       "    }\n",
       "\n",
       "    .dataframe tbody tr th {\n",
       "        vertical-align: top;\n",
       "    }\n",
       "\n",
       "    .dataframe thead th {\n",
       "        text-align: right;\n",
       "    }\n",
       "</style>\n",
       "<table border=\"1\" class=\"dataframe\">\n",
       "  <thead>\n",
       "    <tr style=\"text-align: right;\">\n",
       "      <th></th>\n",
       "      <th>0</th>\n",
       "      <th>1</th>\n",
       "    </tr>\n",
       "  </thead>\n",
       "  <tbody>\n",
       "    <tr>\n",
       "      <th>0</th>\n",
       "      <td>1112</td>\n",
       "      <td>249</td>\n",
       "    </tr>\n",
       "    <tr>\n",
       "      <th>1</th>\n",
       "      <td>217</td>\n",
       "      <td>1083</td>\n",
       "    </tr>\n",
       "  </tbody>\n",
       "</table>\n",
       "</div>"
      ],
      "text/plain": [
       "      0     1\n",
       "0  1112   249\n",
       "1   217  1083"
      ]
     },
     "metadata": {},
     "output_type": "display_data"
    },
    {
     "name": "stdout",
     "output_type": "stream",
     "text": [
      "\n",
      "\n",
      "\n"
     ]
    }
   ],
   "source": [
    "for classifier in classifiers:\n",
    "    pred = classifiers[classifier].predict(embeddings_test)\n",
    "    print(\"Scores\", classifier+\":\")\n",
    "    print(metrics.classification_report(y_test, pred, target_names = [\"Non offensive\", \"Offensive\"]))\n",
    "    print()\n",
    "    print(\"Confusion Matrix\", classifier+\":\")\n",
    "    display(pd.DataFrame(metrics.confusion_matrix(y_test, pred)))\n",
    "    print()\n",
    "    print()\n",
    "    print()"
   ]
  }
 ],
 "metadata": {
  "authors": [
   {
    "name": "Mario Edoardo Pandolfo"
   },
   {
    "name": "Hejaz Nawasser"
   },
   {
    "name": "Salim Sikder"
   }
  ],
  "colab": {
   "collapsed_sections": [],
   "name": "code.ipynb",
   "provenance": []
  },
  "kernelspec": {
   "display_name": "Python 3 (ipykernel)",
   "language": "python",
   "name": "python3"
  },
  "language_info": {
   "codemirror_mode": {
    "name": "ipython",
    "version": 3
   },
   "file_extension": ".py",
   "mimetype": "text/x-python",
   "name": "python",
   "nbconvert_exporter": "python",
   "pygments_lexer": "ipython3",
   "version": "3.10.5"
  },
  "title": "Offensive tweets classification with classifiers"
 },
 "nbformat": 4,
 "nbformat_minor": 5
}
